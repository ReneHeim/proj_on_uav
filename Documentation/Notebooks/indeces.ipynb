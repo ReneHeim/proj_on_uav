{
 "cells": [
  {
   "cell_type": "code",
   "id": "initial_id",
   "metadata": {
    "collapsed": true,
    "ExecuteTime": {
     "end_time": "2025-08-26T11:14:25.222240Z",
     "start_time": "2025-08-26T11:14:25.213705Z"
    }
   },
   "source": [
    "import polars as pl\n",
    "import numpy as np\n",
    "\n",
    "\n",
    "df = pl.read_csv(\"spectral_indices.csv\")\n",
    "\n",
    "# filter bands column to only include bands in N R G B NR2 nothing else\n",
    "filtered = df.filter(\n",
    "    pl.col(\"bands\").str.contains(r\"^\\['(?:N|R|G|B|NR2)'(?:,\\s*'(?:N|R|G|B|NR2)')*\\]$\")\n",
    ")\n",
    "\n",
    "band_mapping = {\"B\": \"band1\", \"G\": \"band2\", \"R\": \"band3\",  \"NR2\": \"band4\",\"N\": \"band5\"}\n",
    "\n",
    "filtered = df.filter(\n",
    "    pl.col(\"bands\").str.contains(r\"^\\['(?:N|R|G|B|NR2)'(?:,\\s*'(?:N|R|G|B|NR2)')*\\]$\")\n",
    ")\n",
    "\n",
    "filtered = (\n",
    "    filtered\n",
    "    .with_columns(\n",
    "        pl.col(\"bands\")\n",
    "        .str.replace(r\"\\bNR2\\b\", \"band4\")\n",
    "        .str.replace(r\"\\bN\\b\", \"band5\")\n",
    "        .str.replace(r\"\\bB\\b\", \"band1\")\n",
    "        .str.replace(r\"\\bG\\b\", \"band2\")\n",
    "        .str.replace(r\"\\bR\\b\", \"band3\")\n",
    "        .alias(\"bands\"),\n",
    "        pl.col(\"formula\")\n",
    "        .str.replace(r\"\\bNR2\\b\", \"band4\")\n",
    "        .str.replace(r\"\\bN\\b\", \"band5\")\n",
    "        .str.replace(r\"\\bB\\b\", \"band1\")\n",
    "        .str.replace(r\"\\bG\\b\", \"band2\")\n",
    "        .str.replace(r\"\\bR\\b\", \"band3\")\n",
    "        .alias(\"formula\"),\n",
    "    )\n",
    ")\n",
    "\n",
    "\n",
    "filtered"
   ],
   "outputs": [
    {
     "data": {
      "text/plain": [
       "shape: (59, 9)\n",
       "┌───────┬────────────┬────────────┬────────────┬───┬───────────┬───────────┬───────────┬───────────┐\n",
       "│ index ┆ short_name ┆ long_name  ┆ applicatio ┆ … ┆ bands     ┆ reference ┆ contribut ┆ date_of_a │\n",
       "│ ---   ┆ ---        ┆ ---        ┆ n_domain   ┆   ┆ ---       ┆ ---       ┆ or        ┆ ddition   │\n",
       "│ i64   ┆ str        ┆ str        ┆ ---        ┆   ┆ str       ┆ str       ┆ ---       ┆ ---       │\n",
       "│       ┆            ┆            ┆ str        ┆   ┆           ┆           ┆ str       ┆ str       │\n",
       "╞═══════╪════════════╪════════════╪════════════╪═══╪═══════════╪═══════════╪═══════════╪═══════════╡\n",
       "│ 7     ┆ AVI        ┆ Advanced   ┆ vegetation ┆ … ┆ ['band5', ┆ http://ci ┆ https://g ┆ 2022-04-0 │\n",
       "│       ┆            ┆ Vegetation ┆            ┆   ┆ 'band3']  ┆ teseerx.i ┆ ithub.com ┆ 8         │\n",
       "│       ┆            ┆ Index      ┆            ┆   ┆           ┆ st.psu.ed ┆ /davemlz  ┆           │\n",
       "│       ┆            ┆            ┆            ┆   ┆           ┆ u/v…      ┆           ┆           │\n",
       "│ 13    ┆ BCC        ┆ Blue       ┆ vegetation ┆ … ┆ ['band1', ┆ https://d ┆ https://g ┆ 2022-01-1 │\n",
       "│       ┆            ┆ Chromatic  ┆            ┆   ┆ 'band3',  ┆ oi.org/10 ┆ ithub.com ┆ 7         │\n",
       "│       ┆            ┆ Coordinate ┆            ┆   ┆ 'band2']  ┆ .1016/003 ┆ /davemlz  ┆           │\n",
       "│       ┆            ┆            ┆            ┆   ┆           ┆ 4-4…      ┆           ┆           │\n",
       "│ 18    ┆ BNDVI      ┆ Blue       ┆ vegetation ┆ … ┆ ['band5', ┆ https://d ┆ https://g ┆ 2021-04-0 │\n",
       "│       ┆            ┆ Normalized ┆            ┆   ┆ 'band1']  ┆ oi.org/10 ┆ ithub.com ┆ 7         │\n",
       "│       ┆            ┆ Difference ┆            ┆   ┆           ┆ .1016/S16 ┆ /MATRIX42 ┆           │\n",
       "│       ┆            ┆ Veg…       ┆            ┆   ┆           ┆ 72-…      ┆ 84        ┆           │\n",
       "│ 23    ┆ CIG        ┆ Chlorophyl ┆ vegetation ┆ … ┆ ['band5', ┆ https://d ┆ https://g ┆ 2021-04-0 │\n",
       "│       ┆            ┆ l Index    ┆            ┆   ┆ 'band2']  ┆ oi.org/10 ┆ ithub.com ┆ 7         │\n",
       "│       ┆            ┆ Green      ┆            ┆   ┆           ┆ .1078/017 ┆ /davemlz  ┆           │\n",
       "│       ┆            ┆            ┆            ┆   ┆           ┆ 6-1…      ┆           ┆           │\n",
       "│ 25    ┆ CRI550     ┆ Carotenoid ┆ vegetation ┆ … ┆ ['band1', ┆ https://d ┆ https://g ┆ 2024-08-0 │\n",
       "│       ┆            ┆ Reflectanc ┆            ┆   ┆ 'band2']  ┆ oi.org/10 ┆ ithub.com ┆ 8         │\n",
       "│       ┆            ┆ e Index u… ┆            ┆   ┆           ┆ .1562/003 ┆ /eomaster ┆           │\n",
       "│       ┆            ┆            ┆            ┆   ┆           ┆ 1-8…      ┆ s-r…      ┆           │\n",
       "│ …     ┆ …          ┆ …          ┆ …          ┆ … ┆ …         ┆ …         ┆ …         ┆ …         │\n",
       "│ 216   ┆ TVI        ┆ Transforme ┆ vegetation ┆ … ┆ ['band5', ┆ https://n ┆ https://g ┆ 2022-04-0 │\n",
       "│       ┆            ┆ d          ┆            ┆   ┆ 'band3']  ┆ trs.nasa. ┆ ithub.com ┆ 8         │\n",
       "│       ┆            ┆ Vegetation ┆            ┆   ┆           ┆ gov/citat ┆ /davemlz  ┆           │\n",
       "│       ┆            ┆ Index      ┆            ┆   ┆           ┆ ion…      ┆           ┆           │\n",
       "│ 218   ┆ TriVI      ┆ Triangular ┆ vegetation ┆ … ┆ ['band5', ┆ http://dx ┆ https://g ┆ 2021-05-1 │\n",
       "│       ┆            ┆ Vegetation ┆            ┆   ┆ 'band2',  ┆ .doi.org/ ┆ ithub.com ┆ 4         │\n",
       "│       ┆            ┆ Index      ┆            ┆   ┆ 'band3']  ┆ 10.1016/S ┆ /davemlz  ┆           │\n",
       "│       ┆            ┆            ┆            ┆   ┆           ┆ 003…      ┆           ┆           │\n",
       "│ 220   ┆ VARI       ┆ Visible    ┆ vegetation ┆ … ┆ ['band2', ┆ https://d ┆ https://g ┆ 2021-04-0 │\n",
       "│       ┆            ┆ Atmospheri ┆            ┆   ┆ 'band3',  ┆ oi.org/10 ┆ ithub.com ┆ 7         │\n",
       "│       ┆            ┆ cally      ┆            ┆   ┆ 'band1']  ┆ .1016/S00 ┆ /davemlz  ┆           │\n",
       "│       ┆            ┆ Resist…    ┆            ┆   ┆           ┆ 34-…      ┆           ┆           │\n",
       "│ 229   ┆ VIG        ┆ Vegetation ┆ vegetation ┆ … ┆ ['band2', ┆ https://d ┆ https://g ┆ 2021-09-2 │\n",
       "│       ┆            ┆ Index      ┆            ┆   ┆ 'band3']  ┆ oi.org/10 ┆ ithub.com ┆ 0         │\n",
       "│       ┆            ┆ Green      ┆            ┆   ┆           ┆ .1016/S00 ┆ /davemlz  ┆           │\n",
       "│       ┆            ┆            ┆            ┆   ┆           ┆ 34-…      ┆           ┆           │\n",
       "│ 241   ┆ bNIRv      ┆ Blue Near- ┆ vegetation ┆ … ┆ ['band5', ┆ https://d ┆ https://g ┆ 2024-05-1 │\n",
       "│       ┆            ┆ Infrared   ┆            ┆   ┆ 'band1']  ┆ oi.org/10 ┆ ithub.com ┆ 6         │\n",
       "│       ┆            ┆ Reflectanc ┆            ┆   ┆           ┆ .1029/202 ┆ /davemlz  ┆           │\n",
       "│       ┆            ┆ e…         ┆            ┆   ┆           ┆ 4JG…      ┆           ┆           │\n",
       "└───────┴────────────┴────────────┴────────────┴───┴───────────┴───────────┴───────────┴───────────┘"
      ],
      "text/html": [
       "<div><style>\n",
       ".dataframe > thead > tr,\n",
       ".dataframe > tbody > tr {\n",
       "  text-align: right;\n",
       "  white-space: pre-wrap;\n",
       "}\n",
       "</style>\n",
       "<small>shape: (59, 9)</small><table border=\"1\" class=\"dataframe\"><thead><tr><th>index</th><th>short_name</th><th>long_name</th><th>application_domain</th><th>formula</th><th>bands</th><th>reference</th><th>contributor</th><th>date_of_addition</th></tr><tr><td>i64</td><td>str</td><td>str</td><td>str</td><td>str</td><td>str</td><td>str</td><td>str</td><td>str</td></tr></thead><tbody><tr><td>7</td><td>&quot;AVI&quot;</td><td>&quot;Advanced Vegetation Index&quot;</td><td>&quot;vegetation&quot;</td><td>&quot;(band5 * (1.0 - band3) * (N - …</td><td>&quot;[&#x27;band5&#x27;, &#x27;band3&#x27;]&quot;</td><td>&quot;http://citeseerx.ist.psu.edu/v…</td><td>&quot;https://github.com/davemlz&quot;</td><td>&quot;2022-04-08&quot;</td></tr><tr><td>13</td><td>&quot;BCC&quot;</td><td>&quot;Blue Chromatic Coordinate&quot;</td><td>&quot;vegetation&quot;</td><td>&quot;band1 / (band3 + band2 + B)&quot;</td><td>&quot;[&#x27;band1&#x27;, &#x27;band3&#x27;, &#x27;band2&#x27;]&quot;</td><td>&quot;https://doi.org/10.1016/0034-4…</td><td>&quot;https://github.com/davemlz&quot;</td><td>&quot;2022-01-17&quot;</td></tr><tr><td>18</td><td>&quot;BNDVI&quot;</td><td>&quot;Blue Normalized Difference Veg…</td><td>&quot;vegetation&quot;</td><td>&quot;(band5 - band1)/(N + B)&quot;</td><td>&quot;[&#x27;band5&#x27;, &#x27;band1&#x27;]&quot;</td><td>&quot;https://doi.org/10.1016/S1672-…</td><td>&quot;https://github.com/MATRIX4284&quot;</td><td>&quot;2021-04-07&quot;</td></tr><tr><td>23</td><td>&quot;CIG&quot;</td><td>&quot;Chlorophyll Index Green&quot;</td><td>&quot;vegetation&quot;</td><td>&quot;(band5 / band2) - 1.0&quot;</td><td>&quot;[&#x27;band5&#x27;, &#x27;band2&#x27;]&quot;</td><td>&quot;https://doi.org/10.1078/0176-1…</td><td>&quot;https://github.com/davemlz&quot;</td><td>&quot;2021-04-07&quot;</td></tr><tr><td>25</td><td>&quot;CRI550&quot;</td><td>&quot;Carotenoid Reflectance Index u…</td><td>&quot;vegetation&quot;</td><td>&quot;(1.0 / band1) - (1.0 / band2)&quot;</td><td>&quot;[&#x27;band1&#x27;, &#x27;band2&#x27;]&quot;</td><td>&quot;https://doi.org/10.1562/0031-8…</td><td>&quot;https://github.com/eomasters-r…</td><td>&quot;2024-08-08&quot;</td></tr><tr><td>&hellip;</td><td>&hellip;</td><td>&hellip;</td><td>&hellip;</td><td>&hellip;</td><td>&hellip;</td><td>&hellip;</td><td>&hellip;</td><td>&hellip;</td></tr><tr><td>216</td><td>&quot;TVI&quot;</td><td>&quot;Transformed Vegetation Index&quot;</td><td>&quot;vegetation&quot;</td><td>&quot;(((band5 - band3)/(N + R)) + 0…</td><td>&quot;[&#x27;band5&#x27;, &#x27;band3&#x27;]&quot;</td><td>&quot;https://ntrs.nasa.gov/citation…</td><td>&quot;https://github.com/davemlz&quot;</td><td>&quot;2022-04-08&quot;</td></tr><tr><td>218</td><td>&quot;TriVI&quot;</td><td>&quot;Triangular Vegetation Index&quot;</td><td>&quot;vegetation&quot;</td><td>&quot;0.5 * (120 * (band5 - band2) -…</td><td>&quot;[&#x27;band5&#x27;, &#x27;band2&#x27;, &#x27;band3&#x27;]&quot;</td><td>&quot;http://dx.doi.org/10.1016/S003…</td><td>&quot;https://github.com/davemlz&quot;</td><td>&quot;2021-05-14&quot;</td></tr><tr><td>220</td><td>&quot;VARI&quot;</td><td>&quot;Visible Atmospherically Resist…</td><td>&quot;vegetation&quot;</td><td>&quot;(band2 - band3) / (G + R - ban…</td><td>&quot;[&#x27;band2&#x27;, &#x27;band3&#x27;, &#x27;band1&#x27;]&quot;</td><td>&quot;https://doi.org/10.1016/S0034-…</td><td>&quot;https://github.com/davemlz&quot;</td><td>&quot;2021-04-07&quot;</td></tr><tr><td>229</td><td>&quot;VIG&quot;</td><td>&quot;Vegetation Index Green&quot;</td><td>&quot;vegetation&quot;</td><td>&quot;(band2 - band3) / (G + R)&quot;</td><td>&quot;[&#x27;band2&#x27;, &#x27;band3&#x27;]&quot;</td><td>&quot;https://doi.org/10.1016/S0034-…</td><td>&quot;https://github.com/davemlz&quot;</td><td>&quot;2021-09-20&quot;</td></tr><tr><td>241</td><td>&quot;bNIRv&quot;</td><td>&quot;Blue Near-Infrared Reflectance…</td><td>&quot;vegetation&quot;</td><td>&quot;((band5 - band1)/(N + B)) * N&quot;</td><td>&quot;[&#x27;band5&#x27;, &#x27;band1&#x27;]&quot;</td><td>&quot;https://doi.org/10.1029/2024JG…</td><td>&quot;https://github.com/davemlz&quot;</td><td>&quot;2024-05-16&quot;</td></tr></tbody></table></div>"
      ]
     },
     "execution_count": 3,
     "metadata": {},
     "output_type": "execute_result"
    }
   ],
   "execution_count": 3
  },
  {
   "metadata": {
    "ExecuteTime": {
     "end_time": "2025-08-26T11:14:25.383533Z",
     "start_time": "2025-08-26T11:14:25.331418Z"
    }
   },
   "cell_type": "code",
   "source": [
    "# Generate random dataset\n",
    "import numpy as np\n",
    "\n",
    "np.random.seed(42)\n",
    "n_samples = 2_000_000\n",
    "\n",
    "band_data = pl.DataFrame({\n",
    "    \"band1\": np.random.uniform(0.05, 0.15, n_samples),\n",
    "    \"band2\": np.random.uniform(0.2, 0.3, n_samples),\n",
    "    \"band3\": np.random.uniform(0.2, 0.5, n_samples),\n",
    "    \"band4\": np.random.uniform(0.3, 0.6, n_samples),\n",
    "    \"band5\": np.random.uniform(0.2, 0.8, n_samples),\n",
    "})\n",
    "\n",
    "# Debug: check if replacement worked\n",
    "band_data"
   ],
   "id": "535683647391c499",
   "outputs": [
    {
     "data": {
      "text/plain": [
       "shape: (2_000_000, 5)\n",
       "┌──────────┬──────────┬──────────┬──────────┬──────────┐\n",
       "│ band1    ┆ band2    ┆ band3    ┆ band4    ┆ band5    │\n",
       "│ ---      ┆ ---      ┆ ---      ┆ ---      ┆ ---      │\n",
       "│ f64      ┆ f64      ┆ f64      ┆ f64      ┆ f64      │\n",
       "╞══════════╪══════════╪══════════╪══════════╪══════════╡\n",
       "│ 0.087454 ┆ 0.210181 ┆ 0.442096 ┆ 0.396915 ┆ 0.502604 │\n",
       "│ 0.145071 ┆ 0.229828 ┆ 0.266359 ┆ 0.595311 ┆ 0.502696 │\n",
       "│ 0.123199 ┆ 0.263657 ┆ 0.210482 ┆ 0.330519 ┆ 0.69746  │\n",
       "│ 0.109866 ┆ 0.243567 ┆ 0.212671 ┆ 0.459856 ┆ 0.763822 │\n",
       "│ 0.065602 ┆ 0.222058 ┆ 0.460987 ┆ 0.568724 ┆ 0.317746 │\n",
       "│ …        ┆ …        ┆ …        ┆ …        ┆ …        │\n",
       "│ 0.096058 ┆ 0.268047 ┆ 0.324283 ┆ 0.348795 ┆ 0.346982 │\n",
       "│ 0.140516 ┆ 0.263405 ┆ 0.322131 ┆ 0.42978  ┆ 0.236982 │\n",
       "│ 0.118311 ┆ 0.26125  ┆ 0.46523  ┆ 0.370067 ┆ 0.759977 │\n",
       "│ 0.083866 ┆ 0.209389 ┆ 0.241333 ┆ 0.427769 ┆ 0.347089 │\n",
       "│ 0.119162 ┆ 0.274398 ┆ 0.344891 ┆ 0.549775 ┆ 0.433334 │\n",
       "└──────────┴──────────┴──────────┴──────────┴──────────┘"
      ],
      "text/html": [
       "<div><style>\n",
       ".dataframe > thead > tr,\n",
       ".dataframe > tbody > tr {\n",
       "  text-align: right;\n",
       "  white-space: pre-wrap;\n",
       "}\n",
       "</style>\n",
       "<small>shape: (2_000_000, 5)</small><table border=\"1\" class=\"dataframe\"><thead><tr><th>band1</th><th>band2</th><th>band3</th><th>band4</th><th>band5</th></tr><tr><td>f64</td><td>f64</td><td>f64</td><td>f64</td><td>f64</td></tr></thead><tbody><tr><td>0.087454</td><td>0.210181</td><td>0.442096</td><td>0.396915</td><td>0.502604</td></tr><tr><td>0.145071</td><td>0.229828</td><td>0.266359</td><td>0.595311</td><td>0.502696</td></tr><tr><td>0.123199</td><td>0.263657</td><td>0.210482</td><td>0.330519</td><td>0.69746</td></tr><tr><td>0.109866</td><td>0.243567</td><td>0.212671</td><td>0.459856</td><td>0.763822</td></tr><tr><td>0.065602</td><td>0.222058</td><td>0.460987</td><td>0.568724</td><td>0.317746</td></tr><tr><td>&hellip;</td><td>&hellip;</td><td>&hellip;</td><td>&hellip;</td><td>&hellip;</td></tr><tr><td>0.096058</td><td>0.268047</td><td>0.324283</td><td>0.348795</td><td>0.346982</td></tr><tr><td>0.140516</td><td>0.263405</td><td>0.322131</td><td>0.42978</td><td>0.236982</td></tr><tr><td>0.118311</td><td>0.26125</td><td>0.46523</td><td>0.370067</td><td>0.759977</td></tr><tr><td>0.083866</td><td>0.209389</td><td>0.241333</td><td>0.427769</td><td>0.347089</td></tr><tr><td>0.119162</td><td>0.274398</td><td>0.344891</td><td>0.549775</td><td>0.433334</td></tr></tbody></table></div>"
      ]
     },
     "execution_count": 4,
     "metadata": {},
     "output_type": "execute_result"
    }
   ],
   "execution_count": 4
  },
  {
   "metadata": {
    "ExecuteTime": {
     "end_time": "2025-08-26T11:14:25.883257Z",
     "start_time": "2025-08-26T11:14:25.661937Z"
    }
   },
   "cell_type": "code",
   "source": [
    "import math\n",
    "\n",
    "\n",
    "\n",
    "# Apply formulas\n",
    "result = band_data.clone()\n",
    "\n",
    "# Create Polars expressions for all formulas at once\n",
    "expressions = []\n",
    "\n",
    "for row in filtered.select(\"short_name\", \"formula\").iter_rows():\n",
    "    name, formula = row\n",
    "\n",
    "    # Double-check replacement in case some got missed\n",
    "    formula = (formula\n",
    "               .replace(\"NR2\", \"band4\")\n",
    "               .replace(\"N\", \"band5\")\n",
    "               .replace(\"B\", \"band1\")\n",
    "               .replace(\"G\", \"band2\")\n",
    "               .replace(\"R\", \"band3\"))\n",
    "\n",
    "    try:\n",
    "        # Try to build native Polars expression\n",
    "        env = {\n",
    "            \"band1\": pl.col(\"band1\"),\n",
    "            \"band2\": pl.col(\"band2\"),\n",
    "            \"band3\": pl.col(\"band3\"),\n",
    "            \"band4\": pl.col(\"band4\"),\n",
    "            \"band5\": pl.col(\"band5\"),\n",
    "            \"pi\": math.pi,\n",
    "        }\n",
    "\n",
    "        # Simple replacements for common functions\n",
    "        polars_formula = formula\n",
    "        polars_formula = polars_formula.replace(\"sqrt\", \"pl.sqrt\")\n",
    "        polars_formula = polars_formula.replace(\"log\", \"pl.log\")\n",
    "\n",
    "        # Try to evaluate as Polars expression\n",
    "        expr = eval(polars_formula, {\"__builtins__\": {}, \"pl\": pl}, env).alias(name)\n",
    "        expressions.append(expr)\n",
    "\n",
    "    except Exception as e:\n",
    "        # Fallback to map_elements for complex formulas\n",
    "        def safe_eval(row_dict):\n",
    "            try:\n",
    "                env_dict = {**row_dict, \"pi\": math.pi, \"sqrt\": math.sqrt, \"log\": math.log}\n",
    "                result = eval(formula, {\"__builtins__\": {}}, env_dict)\n",
    "                return float('nan') if isinstance(result, complex) else result\n",
    "            except:\n",
    "                return float('nan')\n",
    "\n",
    "        expr = (\n",
    "            pl.struct([\"band1\", \"band2\", \"band3\", \"band4\", \"band5\"])\n",
    "            .map_elements(safe_eval, return_dtype=pl.Float64)\n",
    "            .alias(name)\n",
    "        )\n",
    "        expressions.append(expr)\n",
    "\n",
    "# Apply all expressions at once\n",
    "result = band_data.with_columns(expressions)\n",
    "\n",
    "result"
   ],
   "id": "84abada200789be8",
   "outputs": [
    {
     "data": {
      "text/plain": [
       "shape: (2_000_000, 64)\n",
       "┌──────────┬──────────┬──────────┬──────────┬───┬────────────┬───────────┬───────────┬──────────┐\n",
       "│ band1    ┆ band2    ┆ band3    ┆ band4    ┆ … ┆ TriVI      ┆ VARI      ┆ VIG       ┆ bNIRv    │\n",
       "│ ---      ┆ ---      ┆ ---      ┆ ---      ┆   ┆ ---        ┆ ---       ┆ ---       ┆ ---      │\n",
       "│ f64      ┆ f64      ┆ f64      ┆ f64      ┆   ┆ f64        ┆ f64       ┆ f64       ┆ f64      │\n",
       "╞══════════╪══════════╪══════════╪══════════╪═══╪════════════╪═══════════╪═══════════╪══════════╡\n",
       "│ 0.087454 ┆ 0.210181 ┆ 0.442096 ┆ 0.396915 ┆ … ┆ -5.646102  ┆ -0.410597 ┆ -0.355547 ┆ 0.35362  │\n",
       "│ 0.145071 ┆ 0.229828 ┆ 0.266359 ┆ 0.595311 ┆ … ┆ 12.719053  ┆ -0.10404  ┆ -0.073622 ┆ 0.277533 │\n",
       "│ 0.123199 ┆ 0.263657 ┆ 0.210482 ┆ 0.330519 ┆ … ┆ 31.345666  ┆ 0.151521  ┆ 0.11215   ┆ 0.488051 │\n",
       "│ 0.109866 ┆ 0.243567 ┆ 0.212671 ┆ 0.459856 ┆ … ┆ 34.30489   ┆ 0.089198  ┆ 0.067719  ┆ 0.571722 │\n",
       "│ 0.065602 ┆ 0.222058 ┆ 0.460987 ┆ 0.568724 ┆ … ┆ -18.151621 ┆ -0.386966 ┆ -0.3498   ┆ 0.208995 │\n",
       "│ …        ┆ …        ┆ …        ┆ …        ┆ … ┆ …          ┆ …         ┆ …         ┆ …        │\n",
       "│ 0.096058 ┆ 0.268047 ┆ 0.324283 ┆ 0.348795 ┆ … ┆ -0.887491  ┆ -0.113317 ┆ -0.094941 ┆ 0.19652  │\n",
       "│ 0.140516 ┆ 0.263405 ┆ 0.322131 ┆ 0.42978  ┆ … ┆ -7.457977  ┆ -0.131963 ┆ -0.100295 ┆ 0.060559 │\n",
       "│ 0.118311 ┆ 0.26125  ┆ 0.46523  ┆ 0.370067 ┆ … ┆ 9.525623   ┆ -0.3354   ┆ -0.280779 ┆ 0.555229 │\n",
       "│ 0.083866 ┆ 0.209389 ┆ 0.241333 ┆ 0.427769 ┆ … ┆ 5.067609   ┆ -0.087076 ┆ -0.070874 ┆ 0.211999 │\n",
       "│ 0.119162 ┆ 0.274398 ┆ 0.344891 ┆ 0.549775 ┆ … ┆ 2.486903   ┆ -0.14095  ┆ -0.113828 ┆ 0.246412 │\n",
       "└──────────┴──────────┴──────────┴──────────┴───┴────────────┴───────────┴───────────┴──────────┘"
      ],
      "text/html": [
       "<div><style>\n",
       ".dataframe > thead > tr,\n",
       ".dataframe > tbody > tr {\n",
       "  text-align: right;\n",
       "  white-space: pre-wrap;\n",
       "}\n",
       "</style>\n",
       "<small>shape: (2_000_000, 64)</small><table border=\"1\" class=\"dataframe\"><thead><tr><th>band1</th><th>band2</th><th>band3</th><th>band4</th><th>band5</th><th>AVI</th><th>BCC</th><th>BNDVI</th><th>CIG</th><th>CRI550</th><th>CVI</th><th>DSWI4</th><th>DVI</th><th>ENDVI</th><th>EVIv</th><th>ExG</th><th>ExGR</th><th>ExR</th><th>FCVI</th><th>GARI</th><th>GBNDVI</th><th>GCC</th><th>GEMI</th><th>GLI</th><th>GNDVI</th><th>GOSAVI</th><th>GRNDVI</th><th>GRVI</th><th>IKAW</th><th>IPVI</th><th>IRGBVI</th><th>MCARI1</th><th>MCARI2</th><th>MGRVI</th><th>MRBVI</th><th>MSAVI</th><th>MSR</th><th>MTVI1</th><th>MTVI2</th><th>NDDI</th><th>NDVI</th><th>NDYI</th><th>NGRDI</th><th>NIRv</th><th>NLI</th><th>NormG</th><th>NormNIR</th><th>NormR</th><th>OSAVI</th><th>RCC</th><th>RDVI</th><th>RGBVI</th><th>RGRI</th><th>RI</th><th>SI</th><th>SR</th><th>SR2</th><th>TDVI</th><th>TGI</th><th>TVI</th><th>TriVI</th><th>VARI</th><th>VIG</th><th>bNIRv</th></tr><tr><td>f64</td><td>f64</td><td>f64</td><td>f64</td><td>f64</td><td>f64</td><td>f64</td><td>f64</td><td>f64</td><td>f64</td><td>f64</td><td>f64</td><td>f64</td><td>f64</td><td>f64</td><td>f64</td><td>f64</td><td>f64</td><td>f64</td><td>f64</td><td>f64</td><td>f64</td><td>f64</td><td>f64</td><td>f64</td><td>f64</td><td>f64</td><td>f64</td><td>f64</td><td>f64</td><td>f64</td><td>f64</td><td>f64</td><td>f64</td><td>f64</td><td>f64</td><td>f64</td><td>f64</td><td>f64</td><td>f64</td><td>f64</td><td>f64</td><td>f64</td><td>f64</td><td>f64</td><td>f64</td><td>f64</td><td>f64</td><td>f64</td><td>f64</td><td>f64</td><td>f64</td><td>f64</td><td>f64</td><td>f64</td><td>f64</td><td>f64</td><td>f64</td><td>f64</td><td>f64</td><td>f64</td><td>f64</td><td>f64</td><td>f64</td></tr></thead><tbody><tr><td>0.087454</td><td>0.210181</td><td>0.442096</td><td>0.396915</td><td>0.502604</td><td>0.256961</td><td>0.118224</td><td>0.703575</td><td>1.391291</td><td>6.676781</td><td>5.029853</td><td>0.47542</td><td>0.060508</td><td>0.605927</td><td>0.021727</td><td>-0.109188</td><td>-0.473731</td><td>0.364544</td><td>0.256027</td><td>-0.096156</td><td>0.256135</td><td>0.284132</td><td>0.04349</td><td>-0.114945</td><td>0.410254</td><td>0.335046</td><td>-0.1296</td><td>2.391291</td><td>0.669704</td><td>0.532025</td><td>-0.320388</td><td>-0.274655</td><td>-0.175434</td><td>-0.63129</td><td>0.924684</td><td>0.062286</td><td>0.093629</td><td>-0.274655</td><td>-0.175434</td><td>-1.370014</td><td>0.06405</td><td>0.412341</td><td>-0.355547</td><td>0.032192</td><td>-0.272755</td><td>0.181994</td><td>0.4352</td><td>0.382806</td><td>0.054773</td><td>0.597644</td><td>0.062254</td><td>0.066551</td><td>2.103405</td><td>0.355547</td><td>0.738098</td><td>1.136867</td><td>2.391291</td><td>0.083038</td><td>-0.753392</td><td>0.751033</td><td>-5.646102</td><td>-0.410597</td><td>-0.355547</td><td>0.35362</td></tr><tr><td>0.145071</td><td>0.229828</td><td>0.266359</td><td>0.595311</td><td>0.502696</td><td>0.443378</td><td>0.226229</td><td>0.552088</td><td>1.187268</td><td>2.542083</td><td>2.534925</td><td>0.862853</td><td>0.236338</td><td>0.432576</td><td>0.147562</td><td>0.048227</td><td>-0.068211</td><td>0.116438</td><td>0.288943</td><td>0.384571</td><td>0.145621</td><td>0.358402</td><td>0.55005</td><td>0.055364</td><td>0.372503</td><td>0.305726</td><td>0.006517</td><td>2.187268</td><td>0.294794</td><td>0.653655</td><td>0.03322</td><td>0.283339</td><td>0.201616</td><td>-0.14645</td><td>0.542448</td><td>0.272817</td><td>0.522181</td><td>0.283339</td><td>0.201616</td><td>-10.427519</td><td>0.307309</td><td>0.226079</td><td>-0.073622</td><td>0.154483</td><td>-0.026307</td><td>0.230085</td><td>0.503258</td><td>0.266656</td><td>0.254385</td><td>0.415369</td><td>0.269497</td><td>0.155037</td><td>1.158946</td><td>0.073622</td><td>0.784634</td><td>1.887292</td><td>2.187268</td><td>0.351175</td><td>3.806858</td><td>0.898504</td><td>12.719053</td><td>-0.10404</td><td>-0.073622</td><td>0.277533</td></tr><tr><td>0.123199</td><td>0.263657</td><td>0.210482</td><td>0.330519</td><td>0.69746</td><td>0.644857</td><td>0.206247</td><td>0.699755</td><td>1.64533</td><td>4.324119</td><td>2.111815</td><td>1.252633</td><td>0.486978</td><td>0.591892</td><td>0.416979</td><td>0.193633</td><td>0.183663</td><td>0.00997</td><td>0.498347</td><td>0.664996</td><td>0.286451</td><td>0.441386</td><td>0.814968</td><td>0.224894</td><td>0.451353</td><td>0.386938</td><td>0.190612</td><td>2.64533</td><td>0.261575</td><td>0.768177</td><td>0.357527</td><td>0.784201</td><td>0.535985</td><td>0.221514</td><td>0.489648</td><td>0.51926</td><td>1.113967</td><td>0.784201</td><td>0.535985</td><td>11.620019</td><td>0.536353</td><td>0.363075</td><td>0.11215</td><td>0.374085</td><td>0.395975</td><td>0.22504</td><td>0.595306</td><td>0.179654</td><td>0.455996</td><td>0.352367</td><td>0.51107</td><td>0.456631</td><td>0.798318</td><td>-0.11215</td><td>0.798818</td><td>3.313628</td><td>2.64533</td><td>0.667676</td><td>10.288586</td><td>1.018014</td><td>31.345666</td><td>0.151521</td><td>0.11215</td><td>0.488051</td></tr><tr><td>0.109866</td><td>0.243567</td><td>0.212671</td><td>0.459856</td><td>0.763822</td><td>0.692053</td><td>0.194074</td><td>0.748501</td><td>2.135983</td><td>4.996365</td><td>2.738191</td><td>1.145275</td><td>0.551151</td><td>0.641874</td><td>0.474965</td><td>0.164597</td><td>0.131692</td><td>0.032905</td><td>0.575121</td><td>0.669999</td><td>0.367319</td><td>0.430251</td><td>0.843919</td><td>0.203289</td><td>0.516439</td><td>0.445657</td><td>0.252105</td><td>3.135983</td><td>0.31874</td><td>0.782209</td><td>0.325889</td><td>0.841855</td><td>0.553709</td><td>0.134819</td><td>0.578688</td><td>0.560299</td><td>1.209432</td><td>0.841855</td><td>0.553709</td><td>22.527466</td><td>0.564419</td><td>0.378293</td><td>0.067719</td><td>0.431115</td><td>0.465714</td><td>0.199635</td><td>0.626053</td><td>0.174312</td><td>0.484957</td><td>0.375675</td><td>0.557745</td><td>0.434871</td><td>0.873153</td><td>-0.067719</td><td>0.809333</td><td>3.591563</td><td>3.135983</td><td>0.726178</td><td>9.10343</td><td>1.031707</td><td>34.30489</td><td>0.089198</td><td>0.067719</td><td>0.571722</td></tr><tr><td>0.065602</td><td>0.222058</td><td>0.460987</td><td>0.568724</td><td>0.317746</td><td>NaN</td><td>0.087627</td><td>0.657742</td><td>0.430916</td><td>10.740137</td><td>2.970551</td><td>0.481701</td><td>-0.143241</td><td>0.608935</td><td>-0.031681</td><td>-0.082473</td><td>-0.459699</td><td>0.377225</td><td>0.068197</td><td>-0.610289</td><td>0.049696</td><td>0.296612</td><td>-0.280641</td><td>-0.084962</td><td>0.177265</td><td>0.136736</td><td>-0.36501</td><td>1.430916</td><td>0.750842</td><td>0.40803</td><td>-0.288548</td><td>-0.578996</td><td>-0.378145</td><td>-0.62333</td><td>0.960301</td><td>-0.159592</td><td>-0.239072</td><td>-0.578996</td><td>-0.378145</td><td>0.018482</td><td>-0.183941</td><td>0.543892</td><td>-0.3498</td><td>-0.058447</td><td>-0.64067</td><td>0.221882</td><td>0.317495</td><td>0.460623</td><td>-0.15259</td><td>0.61576</td><td>-0.16232</td><td>0.239695</td><td>2.075978</td><td>0.3498</td><td>0.731745</td><td>0.689273</td><td>1.430916</td><td>-0.2085</td><td>1.024832</td><td>0.562191</td><td>-18.151621</td><td>-0.386966</td><td>-0.3498</td><td>0.208995</td></tr><tr><td>&hellip;</td><td>&hellip;</td><td>&hellip;</td><td>&hellip;</td><td>&hellip;</td><td>&hellip;</td><td>&hellip;</td><td>&hellip;</td><td>&hellip;</td><td>&hellip;</td><td>&hellip;</td><td>&hellip;</td><td>&hellip;</td><td>&hellip;</td><td>&hellip;</td><td>&hellip;</td><td>&hellip;</td><td>&hellip;</td><td>&hellip;</td><td>&hellip;</td><td>&hellip;</td><td>&hellip;</td><td>&hellip;</td><td>&hellip;</td><td>&hellip;</td><td>&hellip;</td><td>&hellip;</td><td>&hellip;</td><td>&hellip;</td><td>&hellip;</td><td>&hellip;</td><td>&hellip;</td><td>&hellip;</td><td>&hellip;</td><td>&hellip;</td><td>&hellip;</td><td>&hellip;</td><td>&hellip;</td><td>&hellip;</td><td>&hellip;</td><td>&hellip;</td><td>&hellip;</td><td>&hellip;</td><td>&hellip;</td><td>&hellip;</td><td>&hellip;</td><td>&hellip;</td><td>&hellip;</td><td>&hellip;</td><td>&hellip;</td><td>&hellip;</td><td>&hellip;</td><td>&hellip;</td><td>&hellip;</td><td>&hellip;</td><td>&hellip;</td><td>&hellip;</td><td>&hellip;</td><td>&hellip;</td><td>&hellip;</td><td>&hellip;</td><td>&hellip;</td><td>&hellip;</td><td>&hellip;</td></tr><tr><td>0.096058</td><td>0.268047</td><td>0.324283</td><td>0.348795</td><td>0.346982</td><td>0.174593</td><td>0.13954</td><td>0.566369</td><td>0.294483</td><td>6.679693</td><td>1.566066</td><td>0.826583</td><td>0.022699</td><td>0.523962</td><td>0.007655</td><td>0.115753</td><td>-0.037768</td><td>0.153521</td><td>0.11752</td><td>-0.486032</td><td>-0.024079</td><td>0.389384</td><td>0.221233</td><td>0.121025</td><td>0.128344</td><td>0.101848</td><td>-0.261199</td><td>1.294483</td><td>0.542952</td><td>0.516908</td><td>0.16695</td><td>-0.055041</td><td>-0.038859</td><td>-0.188185</td><td>0.838668</td><td>0.027238</td><td>0.048652</td><td>-0.055041</td><td>-0.038859</td><td>-1.715458</td><td>0.033816</td><td>0.472361</td><td>-0.094941</td><td>0.011733</td><td>-0.458501</td><td>0.285365</td><td>0.3694</td><td>0.345235</td><td>0.027307</td><td>0.471076</td><td>0.027705</td><td>0.395141</td><td>1.2098</td><td>0.094941</td><td>0.76465</td><td>1.069998</td><td>1.294483</td><td>0.035032</td><td>8.351076</td><td>0.730627</td><td>-0.887491</td><td>-0.113317</td><td>-0.094941</td><td>0.19652</td></tr><tr><td>0.140516</td><td>0.263405</td><td>0.322131</td><td>0.42978</td><td>0.236982</td><td>NaN</td><td>0.193534</td><td>0.255541</td><td>-0.100312</td><td>3.320188</td><td>1.100274</td><td>0.817695</td><td>-0.085149</td><td>0.280714</td><td>-0.023842</td><td>0.064163</td><td>-0.091203</td><td>0.155366</td><td>-0.005035</td><td>-1.340515</td><td>-0.260474</td><td>0.362791</td><td>0.067435</td><td>0.064846</td><td>-0.052804</td><td>-0.040011</td><td>-0.423764</td><td>0.899688</td><td>0.392556</td><td>0.423854</td><td>0.062235</td><td>-0.214227</td><td>-0.152374</td><td>-0.198592</td><td>0.680281</td><td>-0.107672</td><td>-0.200638</td><td>-0.214227</td><td>-0.152374</td><td>2.061521</td><td>-0.152293</td><td>0.30424</td><td>-0.100295</td><td>-0.036091</td><td>-0.703083</td><td>0.320242</td><td>0.288118</td><td>0.39164</td><td>-0.118408</td><td>0.443675</td><td>-0.113875</td><td>0.210364</td><td>1.22295</td><td>0.100295</td><td>0.754288</td><td>0.73567</td><td>0.899688</td><td>-0.136286</td><td>5.317912</td><td>0.589667</td><td>-7.457977</td><td>-0.131963</td><td>-0.100295</td><td>0.060559</td></tr><tr><td>0.118311</td><td>0.26125</td><td>0.46523</td><td>0.370067</td><td>0.759977</td><td>0.492953</td><td>0.140048</td><td>0.730587</td><td>1.909003</td><td>4.624541</td><td>5.180309</td><td>0.56155</td><td>0.294747</td><td>0.623767</td><td>0.152838</td><td>-0.061041</td><td>-0.40459</td><td>0.343549</td><td>0.47838</td><td>0.179518</td><td>0.333833</td><td>0.309248</td><td>0.209432</td><td>-0.055189</td><td>0.488361</td><td>0.422211</td><td>0.022535</td><td>2.909003</td><td>0.594506</td><td>0.620285</td><td>-0.19145</td><td>0.106227</td><td>0.061244</td><td>-0.520521</td><td>0.878513</td><td>0.260954</td><td>0.390401</td><td>0.106227</td><td>0.061244</td><td>-2.941707</td><td>0.240569</td><td>0.37659</td><td>-0.280779</td><td>0.182827</td><td>0.107725</td><td>0.175753</td><td>0.511267</td><td>0.312979</td><td>0.212782</td><td>0.550704</td><td>0.266284</td><td>0.10714</td><td>1.780785</td><td>0.280779</td><td>0.703601</td><td>1.633551</td><td>2.909003</td><td>0.355948</td><td>1.437031</td><td>0.860563</td><td>9.525623</td><td>-0.3354</td><td>-0.280779</td><td>0.555229</td></tr><tr><td>0.083866</td><td>0.209389</td><td>0.241333</td><td>0.427769</td><td>0.347089</td><td>0.30311</td><td>0.15688</td><td>0.610791</td><td>0.657631</td><td>7.147991</td><td>1.910518</td><td>0.867634</td><td>0.105756</td><td>0.536787</td><td>0.042365</td><td>0.093579</td><td>-0.010766</td><td>0.104344</td><td>0.168893</td><td>-0.066967</td><td>0.084071</td><td>0.391683</td><td>0.426465</td><td>0.125782</td><td>0.24745</td><td>0.192191</td><td>-0.129896</td><td>1.657631</td><td>0.484218</td><td>0.589864</td><td>0.182187</td><td>0.102456</td><td>0.077314</td><td>-0.141039</td><td>0.784497</td><td>0.135719</td><td>0.280642</td><td>0.102456</td><td>0.077314</td><td>-6.307874</td><td>0.179729</td><td>0.428034</td><td>-0.070874</td><td>0.062382</td><td>-0.334054</td><td>0.262454</td><td>0.435052</td><td>0.302494</td><td>0.141306</td><td>0.451438</td><td>0.137867</td><td>0.368334</td><td>1.152559</td><td>0.070874</td><td>0.819076</td><td>1.438217</td><td>1.657631</td><td>0.170881</td><td>6.413323</td><td>0.824457</td><td>5.067609</td><td>-0.087076</td><td>-0.070874</td><td>0.211999</td></tr><tr><td>0.119162</td><td>0.274398</td><td>0.344891</td><td>0.549775</td><td>0.433334</td><td>0.29282</td><td>0.161367</td><td>0.568642</td><td>0.579218</td><td>4.74762</td><td>1.984918</td><td>0.795609</td><td>0.088443</td><td>0.496175</td><td>0.036725</td><td>0.084744</td><td>-0.089216</td><td>0.17396</td><td>0.187184</td><td>-0.173639</td><td>0.048101</td><td>0.371586</td><td>0.274422</td><td>0.083669</td><td>0.224571</td><td>0.183163</td><td>-0.176658</td><td>1.579218</td><td>0.48643</td><td>0.556824</td><td>0.098596</td><td>0.01739</td><td>0.011929</td><td>-0.224745</td><td>0.786713</td><td>0.100132</td><td>0.170715</td><td>0.01739</td><td>0.011929</td><td>-3.049123</td><td>0.113648</td><td>0.394442</td><td>-0.113828</td><td>0.049247</td><td>-0.294953</td><td>0.26068</td><td>0.411671</td><td>0.327649</td><td>0.094267</td><td>0.467047</td><td>0.100257</td><td>0.293805</td><td>1.256899</td><td>0.113828</td><td>0.748117</td><td>1.256439</td><td>1.579218</td><td>0.13055</td><td>6.846934</td><td>0.783357</td><td>2.486903</td><td>-0.14095</td><td>-0.113828</td><td>0.246412</td></tr></tbody></table></div>"
      ]
     },
     "execution_count": 5,
     "metadata": {},
     "output_type": "execute_result"
    }
   ],
   "execution_count": 5
  },
  {
   "metadata": {
    "ExecuteTime": {
     "end_time": "2025-08-26T11:17:02.585374Z",
     "start_time": "2025-08-26T11:17:01.215430Z"
    }
   },
   "cell_type": "code",
   "source": [
    "import matplotlib.pyplot as plt\n",
    "\n",
    "plt.hist(result[\"AVI\"].to_list(), bins=100)\n",
    "\n",
    "\n"
   ],
   "id": "47a9cbdd0f8afc33",
   "outputs": [
    {
     "data": {
      "text/plain": [
       "(array([2.4000e+01, 9.2000e+01, 1.9200e+02, 3.2500e+02, 4.5600e+02,\n",
       "        7.1000e+02, 8.8600e+02, 1.1350e+03, 1.4830e+03, 1.7380e+03,\n",
       "        2.2370e+03, 2.5270e+03, 2.9810e+03, 3.3980e+03, 3.7830e+03,\n",
       "        4.4330e+03, 4.7980e+03, 5.3430e+03, 5.8000e+03, 6.6210e+03,\n",
       "        7.2170e+03, 7.6490e+03, 8.2690e+03, 8.9590e+03, 9.3190e+03,\n",
       "        9.9420e+03, 1.0648e+04, 1.1121e+04, 1.1807e+04, 1.2371e+04,\n",
       "        1.2961e+04, 1.3673e+04, 1.4082e+04, 1.4719e+04, 1.5470e+04,\n",
       "        1.6100e+04, 1.6370e+04, 1.7077e+04, 1.7418e+04, 1.8072e+04,\n",
       "        1.8460e+04, 1.9297e+04, 1.9576e+04, 2.0211e+04, 2.0620e+04,\n",
       "        2.0784e+04, 2.1348e+04, 2.1741e+04, 2.2354e+04, 2.2758e+04,\n",
       "        2.3012e+04, 2.3512e+04, 2.4090e+04, 2.4434e+04, 2.4810e+04,\n",
       "        2.5321e+04, 2.5739e+04, 2.5962e+04, 2.6187e+04, 2.6625e+04,\n",
       "        2.7168e+04, 2.7332e+04, 2.7490e+04, 2.8058e+04, 2.8530e+04,\n",
       "        2.8643e+04, 2.9058e+04, 2.9353e+04, 2.8754e+04, 2.7907e+04,\n",
       "        2.7673e+04, 2.7059e+04, 2.6413e+04, 2.5605e+04, 2.5061e+04,\n",
       "        2.4187e+04, 2.3200e+04, 2.2514e+04, 2.1716e+04, 2.0824e+04,\n",
       "        2.0107e+04, 1.8969e+04, 1.8053e+04, 1.7386e+04, 1.6358e+04,\n",
       "        1.5331e+04, 1.4524e+04, 1.3409e+04, 1.2380e+04, 1.1430e+04,\n",
       "        1.0602e+04, 9.5580e+03, 8.2810e+03, 7.3860e+03, 6.3500e+03,\n",
       "        5.1160e+03, 4.0320e+03, 2.7680e+03, 1.7000e+03, 6.0600e+02]),\n",
       " array([0.00481793, 0.01203693, 0.01925592, 0.02647492, 0.03369391,\n",
       "        0.0409129 , 0.0481319 , 0.05535089, 0.06256988, 0.06978888,\n",
       "        0.07700787, 0.08422686, 0.09144586, 0.09866485, 0.10588384,\n",
       "        0.11310284, 0.12032183, 0.12754082, 0.13475982, 0.14197881,\n",
       "        0.14919781, 0.1564168 , 0.16363579, 0.17085479, 0.17807378,\n",
       "        0.18529277, 0.19251177, 0.19973076, 0.20694975, 0.21416875,\n",
       "        0.22138774, 0.22860673, 0.23582573, 0.24304472, 0.25026371,\n",
       "        0.25748271, 0.2647017 , 0.2719207 , 0.27913969, 0.28635868,\n",
       "        0.29357768, 0.30079667, 0.30801566, 0.31523466, 0.32245365,\n",
       "        0.32967264, 0.33689164, 0.34411063, 0.35132962, 0.35854862,\n",
       "        0.36576761, 0.3729866 , 0.3802056 , 0.38742459, 0.39464359,\n",
       "        0.40186258, 0.40908157, 0.41630057, 0.42351956, 0.43073855,\n",
       "        0.43795755, 0.44517654, 0.45239553, 0.45961453, 0.46683352,\n",
       "        0.47405251, 0.48127151, 0.4884905 , 0.49570949, 0.50292849,\n",
       "        0.51014748, 0.51736648, 0.52458547, 0.53180446, 0.53902346,\n",
       "        0.54624245, 0.55346144, 0.56068044, 0.56789943, 0.57511842,\n",
       "        0.58233742, 0.58955641, 0.5967754 , 0.6039944 , 0.61121339,\n",
       "        0.61843238, 0.62565138, 0.63287037, 0.64008937, 0.64730836,\n",
       "        0.65452735, 0.66174635, 0.66896534, 0.67618433, 0.68340333,\n",
       "        0.69062232, 0.69784131, 0.70506031, 0.7122793 , 0.71949829,\n",
       "        0.72671729]),\n",
       " <BarContainer object of 100 artists>)"
      ]
     },
     "execution_count": 15,
     "metadata": {},
     "output_type": "execute_result"
    },
    {
     "data": {
      "text/plain": [
       "<Figure size 640x480 with 1 Axes>"
      ],
      "image/png": "[encoded data removed]"
     },
     "metadata": {},
     "output_type": "display_data"
    }
   ],
   "execution_count": 15
  },
  {
   "metadata": {
    "ExecuteTime": {
     "end_time": "2025-08-26T11:14:27.756198Z",
     "start_time": "2025-08-26T11:14:27.754770Z"
    }
   },
   "cell_type": "code",
   "source": "b",
   "id": "8a9d7aaa85cacd8",
   "outputs": [],
   "execution_count": null
  },
  {
   "metadata": {
    "ExecuteTime": {
     "end_time": "2025-08-26T11:14:27.810984Z",
     "start_time": "2025-08-26T11:14:27.809534Z"
    }
   },
   "cell_type": "code",
   "source": "",
   "id": "5f149beb28ea90be",
   "outputs": [],
   "execution_count": null
  }
 ],
 "metadata": {
  "kernelspec": {
   "display_name": "Python 3",
   "language": "python",
   "name": "python3"
  },
  "language_info": {
   "codemirror_mode": {
    "name": "ipython",
    "version": 2
   },
   "file_extension": ".py",
   "mimetype": "text/x-python",
   "name": "python",
   "nbconvert_exporter": "python",
   "pygments_lexer": "ipython2",
   "version": "2.7.6"
  }
 },
 "nbformat": 4,
 "nbformat_minor": 5
}
