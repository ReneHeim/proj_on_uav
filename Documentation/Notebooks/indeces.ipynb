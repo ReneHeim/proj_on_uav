{
 "cells": [
  {
   "cell_type": "code",
   "id": "initial_id",
   "metadata": {
    "collapsed": true,
    "ExecuteTime": {
     "end_time": "2025-08-25T13:45:55.114100Z",
     "start_time": "2025-08-25T13:45:55.098017Z"
    }
   },
   "source": [
    "import polars as pl\n",
    "import numpy as np\n",
    "\n",
    "\n",
    "df = pl.read_csv(\"spectral_indices.csv\")\n",
    "\n",
    "# filter bands column to only include bands in N R G B NR2 nothing else\n",
    "filtered = df.filter(\n",
    "    pl.col(\"bands\").str.contains(r\"^\\['(?:N|R|G|B|NR2)'(?:,\\s*'(?:N|R|G|B|NR2)')*\\]$\")\n",
    ")\n",
    "\n",
    "filtered"
   ],
   "outputs": [
    {
     "data": {
      "text/plain": [
       "shape: (59, 9)\n",
       "┌───────┬────────────┬────────────┬────────────┬───┬───────────┬───────────┬───────────┬───────────┐\n",
       "│ index ┆ short_name ┆ long_name  ┆ applicatio ┆ … ┆ bands     ┆ reference ┆ contribut ┆ date_of_a │\n",
       "│ ---   ┆ ---        ┆ ---        ┆ n_domain   ┆   ┆ ---       ┆ ---       ┆ or        ┆ ddition   │\n",
       "│ i64   ┆ str        ┆ str        ┆ ---        ┆   ┆ str       ┆ str       ┆ ---       ┆ ---       │\n",
       "│       ┆            ┆            ┆ str        ┆   ┆           ┆           ┆ str       ┆ str       │\n",
       "╞═══════╪════════════╪════════════╪════════════╪═══╪═══════════╪═══════════╪═══════════╪═══════════╡\n",
       "│ 7     ┆ AVI        ┆ Advanced   ┆ vegetation ┆ … ┆ ['N',     ┆ http://ci ┆ https://g ┆ 2022-04-0 │\n",
       "│       ┆            ┆ Vegetation ┆            ┆   ┆ 'R']      ┆ teseerx.i ┆ ithub.com ┆ 8         │\n",
       "│       ┆            ┆ Index      ┆            ┆   ┆           ┆ st.psu.ed ┆ /davemlz  ┆           │\n",
       "│       ┆            ┆            ┆            ┆   ┆           ┆ u/v…      ┆           ┆           │\n",
       "│ 13    ┆ BCC        ┆ Blue       ┆ vegetation ┆ … ┆ ['B',     ┆ https://d ┆ https://g ┆ 2022-01-1 │\n",
       "│       ┆            ┆ Chromatic  ┆            ┆   ┆ 'R', 'G'] ┆ oi.org/10 ┆ ithub.com ┆ 7         │\n",
       "│       ┆            ┆ Coordinate ┆            ┆   ┆           ┆ .1016/003 ┆ /davemlz  ┆           │\n",
       "│       ┆            ┆            ┆            ┆   ┆           ┆ 4-4…      ┆           ┆           │\n",
       "│ 18    ┆ BNDVI      ┆ Blue       ┆ vegetation ┆ … ┆ ['N',     ┆ https://d ┆ https://g ┆ 2021-04-0 │\n",
       "│       ┆            ┆ Normalized ┆            ┆   ┆ 'B']      ┆ oi.org/10 ┆ ithub.com ┆ 7         │\n",
       "│       ┆            ┆ Difference ┆            ┆   ┆           ┆ .1016/S16 ┆ /MATRIX42 ┆           │\n",
       "│       ┆            ┆ Veg…       ┆            ┆   ┆           ┆ 72-…      ┆ 84        ┆           │\n",
       "│ 23    ┆ CIG        ┆ Chlorophyl ┆ vegetation ┆ … ┆ ['N',     ┆ https://d ┆ https://g ┆ 2021-04-0 │\n",
       "│       ┆            ┆ l Index    ┆            ┆   ┆ 'G']      ┆ oi.org/10 ┆ ithub.com ┆ 7         │\n",
       "│       ┆            ┆ Green      ┆            ┆   ┆           ┆ .1078/017 ┆ /davemlz  ┆           │\n",
       "│       ┆            ┆            ┆            ┆   ┆           ┆ 6-1…      ┆           ┆           │\n",
       "│ 25    ┆ CRI550     ┆ Carotenoid ┆ vegetation ┆ … ┆ ['B',     ┆ https://d ┆ https://g ┆ 2024-08-0 │\n",
       "│       ┆            ┆ Reflectanc ┆            ┆   ┆ 'G']      ┆ oi.org/10 ┆ ithub.com ┆ 8         │\n",
       "│       ┆            ┆ e Index u… ┆            ┆   ┆           ┆ .1562/003 ┆ /eomaster ┆           │\n",
       "│       ┆            ┆            ┆            ┆   ┆           ┆ 1-8…      ┆ s-r…      ┆           │\n",
       "│ …     ┆ …          ┆ …          ┆ …          ┆ … ┆ …         ┆ …         ┆ …         ┆ …         │\n",
       "│ 216   ┆ TVI        ┆ Transforme ┆ vegetation ┆ … ┆ ['N',     ┆ https://n ┆ https://g ┆ 2022-04-0 │\n",
       "│       ┆            ┆ d          ┆            ┆   ┆ 'R']      ┆ trs.nasa. ┆ ithub.com ┆ 8         │\n",
       "│       ┆            ┆ Vegetation ┆            ┆   ┆           ┆ gov/citat ┆ /davemlz  ┆           │\n",
       "│       ┆            ┆ Index      ┆            ┆   ┆           ┆ ion…      ┆           ┆           │\n",
       "│ 218   ┆ TriVI      ┆ Triangular ┆ vegetation ┆ … ┆ ['N',     ┆ http://dx ┆ https://g ┆ 2021-05-1 │\n",
       "│       ┆            ┆ Vegetation ┆            ┆   ┆ 'G', 'R'] ┆ .doi.org/ ┆ ithub.com ┆ 4         │\n",
       "│       ┆            ┆ Index      ┆            ┆   ┆           ┆ 10.1016/S ┆ /davemlz  ┆           │\n",
       "│       ┆            ┆            ┆            ┆   ┆           ┆ 003…      ┆           ┆           │\n",
       "│ 220   ┆ VARI       ┆ Visible    ┆ vegetation ┆ … ┆ ['G',     ┆ https://d ┆ https://g ┆ 2021-04-0 │\n",
       "│       ┆            ┆ Atmospheri ┆            ┆   ┆ 'R', 'B'] ┆ oi.org/10 ┆ ithub.com ┆ 7         │\n",
       "│       ┆            ┆ cally      ┆            ┆   ┆           ┆ .1016/S00 ┆ /davemlz  ┆           │\n",
       "│       ┆            ┆ Resist…    ┆            ┆   ┆           ┆ 34-…      ┆           ┆           │\n",
       "│ 229   ┆ VIG        ┆ Vegetation ┆ vegetation ┆ … ┆ ['G',     ┆ https://d ┆ https://g ┆ 2021-09-2 │\n",
       "│       ┆            ┆ Index      ┆            ┆   ┆ 'R']      ┆ oi.org/10 ┆ ithub.com ┆ 0         │\n",
       "│       ┆            ┆ Green      ┆            ┆   ┆           ┆ .1016/S00 ┆ /davemlz  ┆           │\n",
       "│       ┆            ┆            ┆            ┆   ┆           ┆ 34-…      ┆           ┆           │\n",
       "│ 241   ┆ bNIRv      ┆ Blue Near- ┆ vegetation ┆ … ┆ ['N',     ┆ https://d ┆ https://g ┆ 2024-05-1 │\n",
       "│       ┆            ┆ Infrared   ┆            ┆   ┆ 'B']      ┆ oi.org/10 ┆ ithub.com ┆ 6         │\n",
       "│       ┆            ┆ Reflectanc ┆            ┆   ┆           ┆ .1029/202 ┆ /davemlz  ┆           │\n",
       "│       ┆            ┆ e…         ┆            ┆   ┆           ┆ 4JG…      ┆           ┆           │\n",
       "└───────┴────────────┴────────────┴────────────┴───┴───────────┴───────────┴───────────┴───────────┘"
      ],
      "text/html": [
       "<div><style>\n",
       ".dataframe > thead > tr,\n",
       ".dataframe > tbody > tr {\n",
       "  text-align: right;\n",
       "  white-space: pre-wrap;\n",
       "}\n",
       "</style>\n",
       "<small>shape: (59, 9)</small><table border=\"1\" class=\"dataframe\"><thead><tr><th>index</th><th>short_name</th><th>long_name</th><th>application_domain</th><th>formula</th><th>bands</th><th>reference</th><th>contributor</th><th>date_of_addition</th></tr><tr><td>i64</td><td>str</td><td>str</td><td>str</td><td>str</td><td>str</td><td>str</td><td>str</td><td>str</td></tr></thead><tbody><tr><td>7</td><td>&quot;AVI&quot;</td><td>&quot;Advanced Vegetation Index&quot;</td><td>&quot;vegetation&quot;</td><td>&quot;(N * (1.0 - R) * (N - R)) ** (…</td><td>&quot;[&#x27;N&#x27;, &#x27;R&#x27;]&quot;</td><td>&quot;http://citeseerx.ist.psu.edu/v…</td><td>&quot;https://github.com/davemlz&quot;</td><td>&quot;2022-04-08&quot;</td></tr><tr><td>13</td><td>&quot;BCC&quot;</td><td>&quot;Blue Chromatic Coordinate&quot;</td><td>&quot;vegetation&quot;</td><td>&quot;B / (R + G + B)&quot;</td><td>&quot;[&#x27;B&#x27;, &#x27;R&#x27;, &#x27;G&#x27;]&quot;</td><td>&quot;https://doi.org/10.1016/0034-4…</td><td>&quot;https://github.com/davemlz&quot;</td><td>&quot;2022-01-17&quot;</td></tr><tr><td>18</td><td>&quot;BNDVI&quot;</td><td>&quot;Blue Normalized Difference Veg…</td><td>&quot;vegetation&quot;</td><td>&quot;(N - B)/(N + B)&quot;</td><td>&quot;[&#x27;N&#x27;, &#x27;B&#x27;]&quot;</td><td>&quot;https://doi.org/10.1016/S1672-…</td><td>&quot;https://github.com/MATRIX4284&quot;</td><td>&quot;2021-04-07&quot;</td></tr><tr><td>23</td><td>&quot;CIG&quot;</td><td>&quot;Chlorophyll Index Green&quot;</td><td>&quot;vegetation&quot;</td><td>&quot;(N / G) - 1.0&quot;</td><td>&quot;[&#x27;N&#x27;, &#x27;G&#x27;]&quot;</td><td>&quot;https://doi.org/10.1078/0176-1…</td><td>&quot;https://github.com/davemlz&quot;</td><td>&quot;2021-04-07&quot;</td></tr><tr><td>25</td><td>&quot;CRI550&quot;</td><td>&quot;Carotenoid Reflectance Index u…</td><td>&quot;vegetation&quot;</td><td>&quot;(1.0 / B) - (1.0 / G)&quot;</td><td>&quot;[&#x27;B&#x27;, &#x27;G&#x27;]&quot;</td><td>&quot;https://doi.org/10.1562/0031-8…</td><td>&quot;https://github.com/eomasters-r…</td><td>&quot;2024-08-08&quot;</td></tr><tr><td>&hellip;</td><td>&hellip;</td><td>&hellip;</td><td>&hellip;</td><td>&hellip;</td><td>&hellip;</td><td>&hellip;</td><td>&hellip;</td><td>&hellip;</td></tr><tr><td>216</td><td>&quot;TVI&quot;</td><td>&quot;Transformed Vegetation Index&quot;</td><td>&quot;vegetation&quot;</td><td>&quot;(((N - R)/(N + R)) + 0.5) ** 0…</td><td>&quot;[&#x27;N&#x27;, &#x27;R&#x27;]&quot;</td><td>&quot;https://ntrs.nasa.gov/citation…</td><td>&quot;https://github.com/davemlz&quot;</td><td>&quot;2022-04-08&quot;</td></tr><tr><td>218</td><td>&quot;TriVI&quot;</td><td>&quot;Triangular Vegetation Index&quot;</td><td>&quot;vegetation&quot;</td><td>&quot;0.5 * (120 * (N - G) - 200 * (…</td><td>&quot;[&#x27;N&#x27;, &#x27;G&#x27;, &#x27;R&#x27;]&quot;</td><td>&quot;http://dx.doi.org/10.1016/S003…</td><td>&quot;https://github.com/davemlz&quot;</td><td>&quot;2021-05-14&quot;</td></tr><tr><td>220</td><td>&quot;VARI&quot;</td><td>&quot;Visible Atmospherically Resist…</td><td>&quot;vegetation&quot;</td><td>&quot;(G - R) / (G + R - B)&quot;</td><td>&quot;[&#x27;G&#x27;, &#x27;R&#x27;, &#x27;B&#x27;]&quot;</td><td>&quot;https://doi.org/10.1016/S0034-…</td><td>&quot;https://github.com/davemlz&quot;</td><td>&quot;2021-04-07&quot;</td></tr><tr><td>229</td><td>&quot;VIG&quot;</td><td>&quot;Vegetation Index Green&quot;</td><td>&quot;vegetation&quot;</td><td>&quot;(G - R) / (G + R)&quot;</td><td>&quot;[&#x27;G&#x27;, &#x27;R&#x27;]&quot;</td><td>&quot;https://doi.org/10.1016/S0034-…</td><td>&quot;https://github.com/davemlz&quot;</td><td>&quot;2021-09-20&quot;</td></tr><tr><td>241</td><td>&quot;bNIRv&quot;</td><td>&quot;Blue Near-Infrared Reflectance…</td><td>&quot;vegetation&quot;</td><td>&quot;((N - B)/(N + B)) * N&quot;</td><td>&quot;[&#x27;N&#x27;, &#x27;B&#x27;]&quot;</td><td>&quot;https://doi.org/10.1029/2024JG…</td><td>&quot;https://github.com/davemlz&quot;</td><td>&quot;2024-05-16&quot;</td></tr></tbody></table></div>"
      ]
     },
     "execution_count": 11,
     "metadata": {},
     "output_type": "execute_result"
    }
   ],
   "execution_count": 11
  },
  {
   "metadata": {},
   "cell_type": "code",
   "outputs": [],
   "execution_count": null,
   "source": "'",
   "id": "84abada200789be8"
  }
 ],
 "metadata": {
  "kernelspec": {
   "display_name": "Python 3",
   "language": "python",
   "name": "python3"
  },
  "language_info": {
   "codemirror_mode": {
    "name": "ipython",
    "version": 2
   },
   "file_extension": ".py",
   "mimetype": "text/x-python",
   "name": "python",
   "nbconvert_exporter": "python",
   "pygments_lexer": "ipython2",
   "version": "2.7.6"
  }
 },
 "nbformat": 4,
 "nbformat_minor": 5
}
