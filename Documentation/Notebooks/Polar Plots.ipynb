{
 "cells": [
  {
   "cell_type": "code",
   "id": "initial_id",
   "metadata": {
    "collapsed": true,
    "jupyter": {
     "outputs_hidden": true
    },
    "ExecuteTime": {
     "end_time": "2025-07-04T12:13:10.841048Z",
     "start_time": "2025-07-04T12:13:10.837216Z"
    }
   },
   "source": [
    "import matplotlib.pyplot as plt\n",
    "import numpy as np\n",
    "import polars as pl\n"
   ],
   "outputs": [],
   "execution_count": 12
  },
  {
   "cell_type": "code",
   "id": "7a33f2471d6b6364",
   "metadata": {
    "ExecuteTime": {
     "end_time": "2025-07-04T12:13:15.138241Z",
     "start_time": "2025-07-04T12:13:10.856941Z"
    }
   },
   "source": [
    "df = pl.read_parquet(r'D:\\20240826_week8\\metashape\\20241029_products_uav_data\\output\\extract\\polygon_df\\plot_10.parquet')\n",
    "df =df.drop(['distance_xy','angle_rad','vaa_rad','vaa_temp'])\n",
    "df"
   ],
   "outputs": [
    {
     "data": {
      "text/plain": [
       "shape: (18_832_662, 19)\n",
       "┌────────────┬──────────┬──────────┬──────────┬───┬────────────┬───────────┬───────────┬───────────┐\n",
       "│ Xw         ┆ Yw       ┆ band1    ┆ band2    ┆ … ┆ ycam       ┆ sunelev   ┆ saa       ┆ path      │\n",
       "│ ---        ┆ ---      ┆ ---      ┆ ---      ┆   ┆ ---        ┆ ---       ┆ ---       ┆ ---       │\n",
       "│ f64        ┆ f64      ┆ f32      ┆ f32      ┆   ┆ f32        ┆ f32       ┆ f32       ┆ str       │\n",
       "╞════════════╪══════════╪══════════╪══════════╪═══╪════════════╪═══════════╪═══════════╪═══════════╡\n",
       "│ 563627.585 ┆ 5.7130e6 ┆ NaN      ┆ NaN      ┆ … ┆ 5713040.5  ┆ 55.070724 ┆ 150.28924 ┆ IMG_0100_ │\n",
       "│ 225        ┆          ┆          ┆          ┆   ┆            ┆           ┆ 6         ┆ 6.tif     │\n",
       "│ 563627.592 ┆ 5.7130e6 ┆ NaN      ┆ NaN      ┆ … ┆ 5713040.5  ┆ 55.070724 ┆ 150.28924 ┆ IMG_0100_ │\n",
       "│ 477        ┆          ┆          ┆          ┆   ┆            ┆           ┆ 6         ┆ 6.tif     │\n",
       "│ 563627.599 ┆ 5.7130e6 ┆ NaN      ┆ NaN      ┆ … ┆ 5713040.5  ┆ 55.070724 ┆ 150.28924 ┆ IMG_0100_ │\n",
       "│ 728        ┆          ┆          ┆          ┆   ┆            ┆           ┆ 6         ┆ 6.tif     │\n",
       "│ 563627.606 ┆ 5.7130e6 ┆ NaN      ┆ NaN      ┆ … ┆ 5713040.5  ┆ 55.070724 ┆ 150.28924 ┆ IMG_0100_ │\n",
       "│ 979        ┆          ┆          ┆          ┆   ┆            ┆           ┆ 6         ┆ 6.tif     │\n",
       "│ 563627.614 ┆ 5.7130e6 ┆ NaN      ┆ NaN      ┆ … ┆ 5713040.5  ┆ 55.070724 ┆ 150.28924 ┆ IMG_0100_ │\n",
       "│ 231        ┆          ┆          ┆          ┆   ┆            ┆           ┆ 6         ┆ 6.tif     │\n",
       "│ …          ┆ …        ┆ …        ┆ …        ┆ … ┆ …          ┆ …         ┆ …         ┆ …         │\n",
       "│ 563633.869 ┆ 5.7130e6 ┆ 0.006584 ┆ 0.058976 ┆ … ┆ 5.713052e6 ┆ 43.427704 ┆ 208.47375 ┆ IMG_0009_ │\n",
       "│ 829        ┆          ┆          ┆          ┆   ┆            ┆           ┆ 5         ┆ 6.tif     │\n",
       "│ 563633.848 ┆ 5.7130e6 ┆ NaN      ┆ NaN      ┆ … ┆ 5.713052e6 ┆ 43.427704 ┆ 208.47375 ┆ IMG_0009_ │\n",
       "│ 166        ┆          ┆          ┆          ┆   ┆            ┆           ┆ 5         ┆ 6.tif     │\n",
       "│ 563633.855 ┆ 5.7130e6 ┆ NaN      ┆ NaN      ┆ … ┆ 5.713052e6 ┆ 43.427704 ┆ 208.47375 ┆ IMG_0009_ │\n",
       "│ 418        ┆          ┆          ┆          ┆   ┆            ┆           ┆ 5         ┆ 6.tif     │\n",
       "│ 563633.862 ┆ 5.7130e6 ┆ NaN      ┆ NaN      ┆ … ┆ 5.713052e6 ┆ 43.427704 ┆ 208.47375 ┆ IMG_0009_ │\n",
       "│ 669        ┆          ┆          ┆          ┆   ┆            ┆           ┆ 5         ┆ 6.tif     │\n",
       "│ 563633.869 ┆ 5.7130e6 ┆ 0.007714 ┆ 0.067047 ┆ … ┆ 5.713052e6 ┆ 43.427704 ┆ 208.47375 ┆ IMG_0009_ │\n",
       "│ 92         ┆          ┆          ┆          ┆   ┆            ┆           ┆ 5         ┆ 6.tif     │\n",
       "└────────────┴──────────┴──────────┴──────────┴───┴────────────┴───────────┴───────────┴───────────┘"
      ],
      "text/html": [
       "<div><style>\n",
       ".dataframe > thead > tr,\n",
       ".dataframe > tbody > tr {\n",
       "  text-align: right;\n",
       "  white-space: pre-wrap;\n",
       "}\n",
       "</style>\n",
       "<small>shape: (18_832_662, 19)</small><table border=\"1\" class=\"dataframe\"><thead><tr><th>Xw</th><th>Yw</th><th>band1</th><th>band2</th><th>band3</th><th>band4</th><th>band5</th><th>elev</th><th>plot_id</th><th>delta_z</th><th>delta_x</th><th>delta_y</th><th>vza</th><th>vaa</th><th>xcam</th><th>ycam</th><th>sunelev</th><th>saa</th><th>path</th></tr><tr><td>f64</td><td>f64</td><td>f32</td><td>f32</td><td>f32</td><td>f32</td><td>f32</td><td>f32</td><td>str</td><td>f32</td><td>f64</td><td>f64</td><td>f32</td><td>f64</td><td>f32</td><td>f32</td><td>f32</td><td>f32</td><td>str</td></tr></thead><tbody><tr><td>563627.585225</td><td>5.7130e6</td><td>NaN</td><td>NaN</td><td>NaN</td><td>NaN</td><td>NaN</td><td>188.086563</td><td>&quot;plot_10&quot;</td><td>19.449127</td><td>-0.397725</td><td>1.470757</td><td>4.48</td><td>194.578639</td><td>563627.1875</td><td>5713040.5</td><td>55.070724</td><td>150.289246</td><td>&quot;IMG_0100_6.tif&quot;</td></tr><tr><td>563627.592477</td><td>5.7130e6</td><td>NaN</td><td>NaN</td><td>NaN</td><td>NaN</td><td>NaN</td><td>188.085861</td><td>&quot;plot_10&quot;</td><td>19.449829</td><td>-0.404977</td><td>1.470666</td><td>4.48</td><td>194.314824</td><td>563627.1875</td><td>5713040.5</td><td>55.070724</td><td>150.289246</td><td>&quot;IMG_0100_6.tif&quot;</td></tr><tr><td>563627.599728</td><td>5.7130e6</td><td>NaN</td><td>NaN</td><td>NaN</td><td>NaN</td><td>NaN</td><td>188.085129</td><td>&quot;plot_10&quot;</td><td>19.450562</td><td>-0.412228</td><td>1.470575</td><td>4.49</td><td>194.051643</td><td>563627.1875</td><td>5713040.5</td><td>55.070724</td><td>150.289246</td><td>&quot;IMG_0100_6.tif&quot;</td></tr><tr><td>563627.606979</td><td>5.7130e6</td><td>NaN</td><td>NaN</td><td>NaN</td><td>NaN</td><td>NaN</td><td>188.079712</td><td>&quot;plot_10&quot;</td><td>19.455978</td><td>-0.419479</td><td>1.470484</td><td>4.49</td><td>193.789106</td><td>563627.1875</td><td>5713040.5</td><td>55.070724</td><td>150.289246</td><td>&quot;IMG_0100_6.tif&quot;</td></tr><tr><td>563627.614231</td><td>5.7130e6</td><td>NaN</td><td>NaN</td><td>NaN</td><td>NaN</td><td>NaN</td><td>188.074341</td><td>&quot;plot_10&quot;</td><td>19.461349</td><td>-0.426731</td><td>1.470393</td><td>4.5</td><td>193.527221</td><td>563627.1875</td><td>5713040.5</td><td>55.070724</td><td>150.289246</td><td>&quot;IMG_0100_6.tif&quot;</td></tr><tr><td>&hellip;</td><td>&hellip;</td><td>&hellip;</td><td>&hellip;</td><td>&hellip;</td><td>&hellip;</td><td>&hellip;</td><td>&hellip;</td><td>&hellip;</td><td>&hellip;</td><td>&hellip;</td><td>&hellip;</td><td>&hellip;</td><td>&hellip;</td><td>&hellip;</td><td>&hellip;</td><td>&hellip;</td><td>&hellip;</td><td>&hellip;</td></tr><tr><td>563633.869829</td><td>5.7130e6</td><td>0.006584</td><td>0.058976</td><td>0.009119</td><td>0.140287</td><td>0.470458</td><td>188.130493</td><td>&quot;plot_10&quot;</td><td>19.371399</td><td>-44.057329</td><td>14.443891</td><td>67.32</td><td>79.677623</td><td>563589.8125</td><td>5.713052e6</td><td>43.427704</td><td>208.473755</td><td>&quot;IMG_0009_6.tif&quot;</td></tr><tr><td>563633.848166</td><td>5.7130e6</td><td>NaN</td><td>NaN</td><td>NaN</td><td>NaN</td><td>NaN</td><td>188.124802</td><td>&quot;plot_10&quot;</td><td>19.37709</td><td>-44.035666</td><td>14.451416</td><td>67.309998</td><td>79.694805</td><td>563589.8125</td><td>5.713052e6</td><td>43.427704</td><td>208.473755</td><td>&quot;IMG_0009_6.tif&quot;</td></tr><tr><td>563633.855418</td><td>5.7130e6</td><td>NaN</td><td>NaN</td><td>NaN</td><td>NaN</td><td>NaN</td><td>188.125702</td><td>&quot;plot_10&quot;</td><td>19.37619</td><td>-44.042918</td><td>14.451325</td><td>67.309998</td><td>79.691903</td><td>563589.8125</td><td>5.713052e6</td><td>43.427704</td><td>208.473755</td><td>&quot;IMG_0009_6.tif&quot;</td></tr><tr><td>563633.862669</td><td>5.7130e6</td><td>NaN</td><td>NaN</td><td>NaN</td><td>NaN</td><td>NaN</td><td>188.125168</td><td>&quot;plot_10&quot;</td><td>19.376724</td><td>-44.050169</td><td>14.451234</td><td>67.32</td><td>79.689003</td><td>563589.8125</td><td>5.713052e6</td><td>43.427704</td><td>208.473755</td><td>&quot;IMG_0009_6.tif&quot;</td></tr><tr><td>563633.86992</td><td>5.7130e6</td><td>0.007714</td><td>0.067047</td><td>0.011557</td><td>0.158755</td><td>0.514968</td><td>188.124634</td><td>&quot;plot_10&quot;</td><td>19.377258</td><td>-44.05742</td><td>14.451143</td><td>67.32</td><td>79.686103</td><td>563589.8125</td><td>5.713052e6</td><td>43.427704</td><td>208.473755</td><td>&quot;IMG_0009_6.tif&quot;</td></tr></tbody></table></div>"
      ]
     },
     "execution_count": 13,
     "metadata": {},
     "output_type": "execute_result"
    }
   ],
   "execution_count": 13
  },
  {
   "cell_type": "code",
   "id": "ab742d59da3bbad7",
   "metadata": {
    "ExecuteTime": {
     "end_time": "2025-07-04T12:13:15.771728Z",
     "start_time": "2025-07-04T12:13:15.207775Z"
    }
   },
   "source": [
    "import random\n",
    "np.random.seed(42)\n",
    "subset = df.sample(n=100000, with_replacement=True, shuffle=True, seed=42)\n",
    "plt.hist(df['band1'],bins=100)"
   ],
   "outputs": [
    {
     "data": {
      "text/plain": [
       "(array([5.191120e+05, 1.320846e+06, 1.132418e+06, 9.117050e+05,\n",
       "        7.873710e+05, 7.159360e+05, 6.661860e+05, 6.319210e+05,\n",
       "        6.059220e+05, 5.846050e+05, 5.633860e+05, 5.353750e+05,\n",
       "        5.033640e+05, 4.639720e+05, 4.201200e+05, 3.746670e+05,\n",
       "        3.302640e+05, 2.877090e+05, 2.471830e+05, 2.105270e+05,\n",
       "        1.765900e+05, 1.463810e+05, 1.200570e+05, 9.696500e+04,\n",
       "        7.812900e+04, 6.186900e+04, 4.941000e+04, 3.909600e+04,\n",
       "        3.025200e+04, 2.375100e+04, 1.819700e+04, 1.393800e+04,\n",
       "        1.097800e+04, 8.239000e+03, 6.305000e+03, 4.814000e+03,\n",
       "        3.719000e+03, 2.833000e+03, 2.165000e+03, 1.704000e+03,\n",
       "        1.357000e+03, 1.059000e+03, 8.500000e+02, 6.660000e+02,\n",
       "        5.440000e+02, 4.370000e+02, 3.500000e+02, 2.860000e+02,\n",
       "        2.140000e+02, 1.770000e+02, 1.590000e+02, 1.320000e+02,\n",
       "        1.020000e+02, 6.900000e+01, 5.600000e+01, 4.900000e+01,\n",
       "        4.900000e+01, 3.500000e+01, 2.100000e+01, 3.000000e+01,\n",
       "        2.200000e+01, 1.400000e+01, 1.100000e+01, 6.000000e+00,\n",
       "        3.000000e+00, 8.000000e+00, 3.000000e+00, 4.000000e+00,\n",
       "        2.000000e+00, 0.000000e+00, 2.000000e+00, 0.000000e+00,\n",
       "        1.000000e+00, 0.000000e+00, 1.000000e+00, 1.000000e+00,\n",
       "        1.000000e+00, 0.000000e+00, 0.000000e+00, 0.000000e+00,\n",
       "        0.000000e+00, 0.000000e+00, 0.000000e+00, 0.000000e+00,\n",
       "        0.000000e+00, 0.000000e+00, 0.000000e+00, 0.000000e+00,\n",
       "        0.000000e+00, 0.000000e+00, 1.000000e+00, 0.000000e+00,\n",
       "        0.000000e+00, 0.000000e+00, 0.000000e+00, 0.000000e+00,\n",
       "        0.000000e+00, 0.000000e+00, 1.000000e+00, 1.000000e+00]),\n",
       " array([0.00083847, 0.00361401, 0.00638955, 0.00916509, 0.01194063,\n",
       "        0.01471617, 0.01749171, 0.02026725, 0.02304279, 0.02581833,\n",
       "        0.02859388, 0.03136941, 0.03414495, 0.0369205 , 0.03969603,\n",
       "        0.04247158, 0.04524712, 0.04802265, 0.0507982 , 0.05357374,\n",
       "        0.05634928, 0.05912482, 0.06190036, 0.0646759 , 0.06745144,\n",
       "        0.07022698, 0.07300252, 0.07577806, 0.0785536 , 0.08132914,\n",
       "        0.08410469, 0.08688022, 0.08965576, 0.09243131, 0.09520684,\n",
       "        0.09798238, 0.10075793, 0.10353347, 0.106309  , 0.10908455,\n",
       "        0.11186009, 0.11463562, 0.11741117, 0.12018671, 0.12296225,\n",
       "        0.12573779, 0.12851334, 0.13128887, 0.13406441, 0.13683996,\n",
       "        0.13961549, 0.14239103, 0.14516658, 0.14794211, 0.15071765,\n",
       "        0.1534932 , 0.15626873, 0.15904427, 0.16181982, 0.16459535,\n",
       "        0.1673709 , 0.17014644, 0.17292197, 0.17569752, 0.17847306,\n",
       "        0.18124859, 0.18402414, 0.18679968, 0.18957521, 0.19235076,\n",
       "        0.1951263 , 0.19790184, 0.20067738, 0.20345291, 0.20622846,\n",
       "        0.209004  , 0.21177953, 0.21455508, 0.21733062, 0.22010615,\n",
       "        0.2228817 , 0.22565724, 0.22843277, 0.23120832, 0.23398386,\n",
       "        0.23675941, 0.23953494, 0.24231048, 0.24508603, 0.24786156,\n",
       "        0.25063708, 0.25341263, 0.25618818, 0.2589637 , 0.26173925,\n",
       "        0.2645148 , 0.26729032, 0.27006587, 0.27284142, 0.27561694,\n",
       "        0.27839249]),\n",
       " <BarContainer object of 100 artists>)"
      ]
     },
     "execution_count": 14,
     "metadata": {},
     "output_type": "execute_result"
    },
    {
     "data": {
      "text/plain": [
       "<Figure size 640x480 with 1 Axes>"
      ],
      "image/png": "[encoded data removed]"
     },
     "metadata": {},
     "output_type": "display_data"
    }
   ],
   "execution_count": 14
  },
  {
   "metadata": {
    "ExecuteTime": {
     "end_time": "2025-07-04T12:13:18.378138Z",
     "start_time": "2025-07-04T12:13:15.810695Z"
    }
   },
   "cell_type": "code",
   "source": [
    "df = df.with_columns([\n",
    "    (pl.col(\"xcam\") - pl.col(\"Xw\")).alias(\"vx\"),\n",
    "    (pl.col(\"ycam\") - pl.col(\"Yw\")).alias(\"vy\"),\n",
    "    pl.col(\"delta_z\").alias(\"vz\"),            # already positive\n",
    "])\n",
    "\n",
    "df = df.with_columns(\n",
    "    ((pl.col(\"vx\")**2 + pl.col(\"vy\")**2 + pl.col(\"vz\")**2).sqrt()).alias(\"v_norm\")\n",
    ")\n",
    "\n",
    "df = df.with_columns([\n",
    "    pl.map_batches([\"vz\", \"v_norm\"], lambda zs:\n",
    "           np.degrees(np.arccos(zs[0] / zs[1]))).alias(\"vza_deg_new\"),\n",
    "\n",
    "    pl.map_batches([\"vx\", \"vy\"], lambda xy:\n",
    "           (np.degrees(np.arctan2(xy[0], xy[1])) % 360)\n",
    "    ).alias(\"vaa_deg_new\"),\n",
    "])\n",
    "\n",
    "df = df.with_columns([\n",
    "    # Solar Zenith Angle (degrees)\n",
    "    (90 - pl.col(\"sunelev\")).alias(\"sza_deg\"),\n",
    "\n",
    "    # View Zenith Angle (degrees)\n",
    "    pl.col(\"vza\").alias(\"vza_deg_new\"),\n",
    "\n",
    "    # Relative Azimuth Angle (degrees), wrapped to 0–180°\n",
    "    (\n",
    "        ((pl.col(\"saa\") - pl.col(\"vaa_deg_new\")).abs() % 360)              # raw |Δazimuth| ∈ [0, 360)\n",
    "        .map_elements(                                             # clamp >180° to its supplement\n",
    "            lambda x: x if x <= 180 else 360 - x,\n",
    "            return_dtype=pl.Float32\n",
    "        )\n",
    "    ).alias(\"raa_deg\"),\n",
    "])\n",
    "\n",
    "df\n",
    "\n"
   ],
   "id": "fe8fe9fff55b4773",
   "outputs": [
    {
     "data": {
      "text/plain": [
       "shape: (18_832_662, 27)\n",
       "┌────────────┬──────────┬──────────┬──────────┬───┬────────────┬───────────┬───────────┬───────────┐\n",
       "│ Xw         ┆ Yw       ┆ band1    ┆ band2    ┆ … ┆ vza_deg_ne ┆ vaa_deg_n ┆ sza_deg   ┆ raa_deg   │\n",
       "│ ---        ┆ ---      ┆ ---      ┆ ---      ┆   ┆ w          ┆ ew        ┆ ---       ┆ ---       │\n",
       "│ f64        ┆ f64      ┆ f32      ┆ f32      ┆   ┆ ---        ┆ ---       ┆ f32       ┆ f32       │\n",
       "│            ┆          ┆          ┆          ┆   ┆ f32        ┆ f64       ┆           ┆           │\n",
       "╞════════════╪══════════╪══════════╪══════════╪═══╪════════════╪═══════════╪═══════════╪═══════════╡\n",
       "│ 563627.585 ┆ 5.7130e6 ┆ NaN      ┆ NaN      ┆ … ┆ 4.48       ┆ 344.86788 ┆ 34.929276 ┆ 165.42135 │\n",
       "│ 225        ┆          ┆          ┆          ┆   ┆            ┆ 5         ┆           ┆ 6         │\n",
       "│ 563627.592 ┆ 5.7130e6 ┆ NaN      ┆ NaN      ┆ … ┆ 4.48       ┆ 344.60406 ┆ 34.929276 ┆ 165.68518 │\n",
       "│ 477        ┆          ┆          ┆          ┆   ┆            ┆ 9         ┆           ┆ 1         │\n",
       "│ 563627.599 ┆ 5.7130e6 ┆ NaN      ┆ NaN      ┆ … ┆ 4.49       ┆ 344.34088 ┆ 34.929276 ┆ 165.94836 │\n",
       "│ 728        ┆          ┆          ┆          ┆   ┆            ┆ 9         ┆           ┆ 4         │\n",
       "│ 563627.606 ┆ 5.7130e6 ┆ NaN      ┆ NaN      ┆ … ┆ 4.49       ┆ 344.07835 ┆ 34.929276 ┆ 166.21089 │\n",
       "│ 979        ┆          ┆          ┆          ┆   ┆            ┆ 1         ┆           ┆ 2         │\n",
       "│ 563627.614 ┆ 5.7130e6 ┆ NaN      ┆ NaN      ┆ … ┆ 4.5        ┆ 343.81646 ┆ 34.929276 ┆ 166.47277 │\n",
       "│ 231        ┆          ┆          ┆          ┆   ┆            ┆ 6         ┆           ┆ 8         │\n",
       "│ …          ┆ …        ┆ …        ┆ …        ┆ … ┆ …          ┆ …         ┆ …         ┆ …         │\n",
       "│ 563633.869 ┆ 5.7130e6 ┆ 0.006584 ┆ 0.058976 ┆ … ┆ 67.32      ┆ 288.15137 ┆ 46.572296 ┆ 79.67762  │\n",
       "│ 829        ┆          ┆          ┆          ┆   ┆            ┆ 4         ┆           ┆           │\n",
       "│ 563633.848 ┆ 5.7130e6 ┆ NaN      ┆ NaN      ┆ … ┆ 67.309998  ┆ 288.16855 ┆ 46.572296 ┆ 79.694801 │\n",
       "│ 166        ┆          ┆          ┆          ┆   ┆            ┆ 6         ┆           ┆           │\n",
       "│ 563633.855 ┆ 5.7130e6 ┆ NaN      ┆ NaN      ┆ … ┆ 67.309998  ┆ 288.16565 ┆ 46.572296 ┆ 79.691902 │\n",
       "│ 418        ┆          ┆          ┆          ┆   ┆            ┆ 4         ┆           ┆           │\n",
       "│ 563633.862 ┆ 5.7130e6 ┆ NaN      ┆ NaN      ┆ … ┆ 67.32      ┆ 288.16275 ┆ 46.572296 ┆ 79.688995 │\n",
       "│ 669        ┆          ┆          ┆          ┆   ┆            ┆ 3         ┆           ┆           │\n",
       "│ 563633.869 ┆ 5.7130e6 ┆ 0.007714 ┆ 0.067047 ┆ … ┆ 67.32      ┆ 288.15985 ┆ 46.572296 ┆ 79.686096 │\n",
       "│ 92         ┆          ┆          ┆          ┆   ┆            ┆ 3         ┆           ┆           │\n",
       "└────────────┴──────────┴──────────┴──────────┴───┴────────────┴───────────┴───────────┴───────────┘"
      ],
      "text/html": [
       "<div><style>\n",
       ".dataframe > thead > tr,\n",
       ".dataframe > tbody > tr {\n",
       "  text-align: right;\n",
       "  white-space: pre-wrap;\n",
       "}\n",
       "</style>\n",
       "<small>shape: (18_832_662, 27)</small><table border=\"1\" class=\"dataframe\"><thead><tr><th>Xw</th><th>Yw</th><th>band1</th><th>band2</th><th>band3</th><th>band4</th><th>band5</th><th>elev</th><th>plot_id</th><th>delta_z</th><th>delta_x</th><th>delta_y</th><th>vza</th><th>vaa</th><th>xcam</th><th>ycam</th><th>sunelev</th><th>saa</th><th>path</th><th>vx</th><th>vy</th><th>vz</th><th>v_norm</th><th>vza_deg_new</th><th>vaa_deg_new</th><th>sza_deg</th><th>raa_deg</th></tr><tr><td>f64</td><td>f64</td><td>f32</td><td>f32</td><td>f32</td><td>f32</td><td>f32</td><td>f32</td><td>str</td><td>f32</td><td>f64</td><td>f64</td><td>f32</td><td>f64</td><td>f32</td><td>f32</td><td>f32</td><td>f32</td><td>str</td><td>f64</td><td>f64</td><td>f32</td><td>f64</td><td>f32</td><td>f64</td><td>f32</td><td>f32</td></tr></thead><tbody><tr><td>563627.585225</td><td>5.7130e6</td><td>NaN</td><td>NaN</td><td>NaN</td><td>NaN</td><td>NaN</td><td>188.086563</td><td>&quot;plot_10&quot;</td><td>19.449127</td><td>-0.397725</td><td>1.470757</td><td>4.48</td><td>194.578639</td><td>563627.1875</td><td>5713040.5</td><td>55.070724</td><td>150.289246</td><td>&quot;IMG_0100_6.tif&quot;</td><td>-0.397725</td><td>1.470757</td><td>19.449127</td><td>19.508713</td><td>4.48</td><td>344.867885</td><td>34.929276</td><td>165.421356</td></tr><tr><td>563627.592477</td><td>5.7130e6</td><td>NaN</td><td>NaN</td><td>NaN</td><td>NaN</td><td>NaN</td><td>188.085861</td><td>&quot;plot_10&quot;</td><td>19.449829</td><td>-0.404977</td><td>1.470666</td><td>4.48</td><td>194.314824</td><td>563627.1875</td><td>5713040.5</td><td>55.070724</td><td>150.289246</td><td>&quot;IMG_0100_6.tif&quot;</td><td>-0.404977</td><td>1.470666</td><td>19.449829</td><td>19.509554</td><td>4.48</td><td>344.604069</td><td>34.929276</td><td>165.685181</td></tr><tr><td>563627.599728</td><td>5.7130e6</td><td>NaN</td><td>NaN</td><td>NaN</td><td>NaN</td><td>NaN</td><td>188.085129</td><td>&quot;plot_10&quot;</td><td>19.450562</td><td>-0.412228</td><td>1.470575</td><td>4.49</td><td>194.051643</td><td>563627.1875</td><td>5713040.5</td><td>55.070724</td><td>150.289246</td><td>&quot;IMG_0100_6.tif&quot;</td><td>-0.412228</td><td>1.470575</td><td>19.450562</td><td>19.51043</td><td>4.49</td><td>344.340889</td><td>34.929276</td><td>165.948364</td></tr><tr><td>563627.606979</td><td>5.7130e6</td><td>NaN</td><td>NaN</td><td>NaN</td><td>NaN</td><td>NaN</td><td>188.079712</td><td>&quot;plot_10&quot;</td><td>19.455978</td><td>-0.419479</td><td>1.470484</td><td>4.49</td><td>193.789106</td><td>563627.1875</td><td>5713040.5</td><td>55.070724</td><td>150.289246</td><td>&quot;IMG_0100_6.tif&quot;</td><td>-0.419479</td><td>1.470484</td><td>19.455978</td><td>19.515978</td><td>4.49</td><td>344.078351</td><td>34.929276</td><td>166.210892</td></tr><tr><td>563627.614231</td><td>5.7130e6</td><td>NaN</td><td>NaN</td><td>NaN</td><td>NaN</td><td>NaN</td><td>188.074341</td><td>&quot;plot_10&quot;</td><td>19.461349</td><td>-0.426731</td><td>1.470393</td><td>4.5</td><td>193.527221</td><td>563627.1875</td><td>5713040.5</td><td>55.070724</td><td>150.289246</td><td>&quot;IMG_0100_6.tif&quot;</td><td>-0.426731</td><td>1.470393</td><td>19.461349</td><td>19.521482</td><td>4.5</td><td>343.816466</td><td>34.929276</td><td>166.472778</td></tr><tr><td>&hellip;</td><td>&hellip;</td><td>&hellip;</td><td>&hellip;</td><td>&hellip;</td><td>&hellip;</td><td>&hellip;</td><td>&hellip;</td><td>&hellip;</td><td>&hellip;</td><td>&hellip;</td><td>&hellip;</td><td>&hellip;</td><td>&hellip;</td><td>&hellip;</td><td>&hellip;</td><td>&hellip;</td><td>&hellip;</td><td>&hellip;</td><td>&hellip;</td><td>&hellip;</td><td>&hellip;</td><td>&hellip;</td><td>&hellip;</td><td>&hellip;</td><td>&hellip;</td><td>&hellip;</td></tr><tr><td>563633.869829</td><td>5.7130e6</td><td>0.006584</td><td>0.058976</td><td>0.009119</td><td>0.140287</td><td>0.470458</td><td>188.130493</td><td>&quot;plot_10&quot;</td><td>19.371399</td><td>-44.057329</td><td>14.443891</td><td>67.32</td><td>79.677623</td><td>563589.8125</td><td>5.713052e6</td><td>43.427704</td><td>208.473755</td><td>&quot;IMG_0009_6.tif&quot;</td><td>-44.057329</td><td>14.443891</td><td>19.371399</td><td>50.248635</td><td>67.32</td><td>288.151374</td><td>46.572296</td><td>79.67762</td></tr><tr><td>563633.848166</td><td>5.7130e6</td><td>NaN</td><td>NaN</td><td>NaN</td><td>NaN</td><td>NaN</td><td>188.124802</td><td>&quot;plot_10&quot;</td><td>19.37709</td><td>-44.035666</td><td>14.451416</td><td>67.309998</td><td>79.694805</td><td>563589.8125</td><td>5.713052e6</td><td>43.427704</td><td>208.473755</td><td>&quot;IMG_0009_6.tif&quot;</td><td>-44.035666</td><td>14.451416</td><td>19.37709</td><td>50.234002</td><td>67.309998</td><td>288.168556</td><td>46.572296</td><td>79.694801</td></tr><tr><td>563633.855418</td><td>5.7130e6</td><td>NaN</td><td>NaN</td><td>NaN</td><td>NaN</td><td>NaN</td><td>188.125702</td><td>&quot;plot_10&quot;</td><td>19.37619</td><td>-44.042918</td><td>14.451325</td><td>67.309998</td><td>79.691903</td><td>563589.8125</td><td>5.713052e6</td><td>43.427704</td><td>208.473755</td><td>&quot;IMG_0009_6.tif&quot;</td><td>-44.042918</td><td>14.451325</td><td>19.37619</td><td>50.239985</td><td>67.309998</td><td>288.165654</td><td>46.572296</td><td>79.691902</td></tr><tr><td>563633.862669</td><td>5.7130e6</td><td>NaN</td><td>NaN</td><td>NaN</td><td>NaN</td><td>NaN</td><td>188.125168</td><td>&quot;plot_10&quot;</td><td>19.376724</td><td>-44.050169</td><td>14.451234</td><td>67.32</td><td>79.689003</td><td>563589.8125</td><td>5.713052e6</td><td>43.427704</td><td>208.473755</td><td>&quot;IMG_0009_6.tif&quot;</td><td>-44.050169</td><td>14.451234</td><td>19.376724</td><td>50.246522</td><td>67.32</td><td>288.162753</td><td>46.572296</td><td>79.688995</td></tr><tr><td>563633.86992</td><td>5.7130e6</td><td>0.007714</td><td>0.067047</td><td>0.011557</td><td>0.158755</td><td>0.514968</td><td>188.124634</td><td>&quot;plot_10&quot;</td><td>19.377258</td><td>-44.05742</td><td>14.451143</td><td>67.32</td><td>79.686103</td><td>563589.8125</td><td>5.713052e6</td><td>43.427704</td><td>208.473755</td><td>&quot;IMG_0009_6.tif&quot;</td><td>-44.05742</td><td>14.451143</td><td>19.377258</td><td>50.253059</td><td>67.32</td><td>288.159853</td><td>46.572296</td><td>79.686096</td></tr></tbody></table></div>"
      ]
     },
     "execution_count": 15,
     "metadata": {},
     "output_type": "execute_result"
    }
   ],
   "execution_count": 15
  },
  {
   "metadata": {
    "ExecuteTime": {
     "end_time": "2025-07-04T12:13:18.435508Z",
     "start_time": "2025-07-04T12:13:18.432976Z"
    }
   },
   "cell_type": "code",
   "source": "",
   "id": "a37f8534446fe2bd",
   "outputs": [],
   "execution_count": null
  },
  {
   "metadata": {
    "ExecuteTime": {
     "end_time": "2025-07-04T12:13:18.494389Z",
     "start_time": "2025-07-04T12:13:18.491021Z"
    }
   },
   "cell_type": "code",
   "source": "",
   "id": "22ce73cc0478aad8",
   "outputs": [],
   "execution_count": null
  },
  {
   "metadata": {
    "ExecuteTime": {
     "end_time": "2025-07-04T12:13:18.604692Z",
     "start_time": "2025-07-04T12:13:18.601509Z"
    }
   },
   "cell_type": "code",
   "source": "",
   "id": "30de4078089ca4bf",
   "outputs": [],
   "execution_count": null
  }
 ],
 "metadata": {
  "kernelspec": {
   "display_name": "Python 3 (ipykernel)",
   "language": "python",
   "name": "python3"
  },
  "language_info": {
   "codemirror_mode": {
    "name": "ipython",
    "version": 3
   },
   "file_extension": ".py",
   "mimetype": "text/x-python",
   "name": "python",
   "nbconvert_exporter": "python",
   "pygments_lexer": "ipython3",
   "version": "3.13.2"
  }
 },
 "nbformat": 4,
 "nbformat_minor": 5
}
