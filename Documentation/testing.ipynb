{
 "cells": [
  {
   "cell_type": "code",
   "id": "initial_id",
   "metadata": {
    "collapsed": true,
    "ExecuteTime": {
     "end_time": "2025-06-25T10:10:51.465435Z",
     "start_time": "2025-06-25T10:10:51.455337Z"
    }
   },
   "source": [
    "import glob\n",
    "import logging\n",
    "\n",
    "out = r\"D:\\\\20240622_week2\\\\metashape\\\\20241206_products_uav_data\\\\output\\\\extract\\\\\"\n",
    "\n",
    "\n",
    "\n",
    "\n",
    "def check_already_processed(out):\n",
    "    try:\n",
    "        paths = glob.glob(out + \"*.parquet\")\n",
    "        images = []\n",
    "        for path in paths:\n",
    "            _ = path.split(\"\\\\\\\\\")[-1]\n",
    "            _ = _.split('_')\n",
    "            if _[-3] == 'IMG' and int(_[-2]) > 0:\n",
    "                images.append(int(_[-2]))\n",
    "        return images\n",
    "    except Exception as e:\n",
    "        logging.error(f\"Error Loading Paths: {e}\")\n",
    "\n",
    "\n",
    "print(check_already_processed(out))"
   ],
   "outputs": [
    {
     "name": "stdout",
     "output_type": "stream",
     "text": [
      "[4, 5, 10, 17, 18, 21, 23, 24, 25, 26, 27, 28, 29, 30, 31, 33, 34, 35, 36, 37, 38, 39, 40, 41, 42, 43, 44, 46, 47, 48, 49, 50, 51, 52, 53, 54, 55, 56, 57, 61, 62, 63, 64, 65, 66, 67, 70, 71, 72, 73, 74, 75, 76, 77, 78, 81, 83, 84, 85, 86, 87, 88, 89, 90, 91, 92, 93, 95, 96, 97, 99, 100, 101, 102, 103, 104, 105, 106, 107, 108, 109, 111, 114, 115, 116, 117, 118, 119, 120, 121, 123, 124, 126, 127, 128, 129, 130, 131, 132, 133, 134, 135, 136, 137, 138, 139, 140, 141, 142, 143, 144, 145, 146, 147, 148, 149, 150, 151, 152, 153, 154, 155, 156, 157, 158, 159, 160, 161, 162, 164, 165, 166, 167, 168, 169, 170, 171, 172, 173, 174, 175, 176, 177, 178, 179, 180, 181, 182, 183, 188, 189, 190, 191, 192, 193, 260, 261, 262, 263, 264, 265, 267, 269, 270, 272, 274, 276, 279, 280, 281, 284, 285, 286, 288, 291, 298, 302, 303, 306, 313, 314, 315]\n"
     ]
    }
   ],
   "execution_count": 9
  },
  {
   "metadata": {},
   "cell_type": "code",
   "outputs": [],
   "execution_count": null,
   "source": "",
   "id": "9b13763764dcd805"
  }
 ],
 "metadata": {
  "kernelspec": {
   "display_name": "Python 3",
   "language": "python",
   "name": "python3"
  },
  "language_info": {
   "codemirror_mode": {
    "name": "ipython",
    "version": 2
   },
   "file_extension": ".py",
   "mimetype": "text/x-python",
   "name": "python",
   "nbconvert_exporter": "python",
   "pygments_lexer": "ipython2",
   "version": "2.7.6"
  }
 },
 "nbformat": 4,
 "nbformat_minor": 5
}
