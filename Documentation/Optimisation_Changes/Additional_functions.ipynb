{
 "cells": [
  {
   "metadata": {
    "ExecuteTime": {
     "end_time": "2025-04-11T08:35:20.943226Z",
     "start_time": "2025-04-11T08:35:20.287903Z"
    }
   },
   "cell_type": "code",
   "source": [
    "import polars as pl\n",
    "import pandas as pd\n",
    "import geopandas as gpd\n",
    "from shapely.geometry import Point\n",
    "import numpy as np\n",
    "# Path to the Parquet file\n",
    "file_path = r\"D:\\20241207_week5_products_uav_data\\output\\extract\\20241207_week5_project_12_IMG_0012_6.tif.parquet\"\n",
    "\n",
    "# Load the Parquet file into a Polars DataFrame\n",
    "df = pl.read_parquet(file_path)\n",
    "\n",
    "# Display the first few rowsSS\n",
    "df"
   ],
   "id": "6893e5ad304ce55e",
   "outputs": [
    {
     "data": {
      "text/plain": [
       "shape: (191_254, 23)\n",
       "┌────────────┬──────────┬──────────┬──────────┬───┬────────────┬───────────┬───────────┬───────────┐\n",
       "│ Xw         ┆ Yw       ┆ band1    ┆ band2    ┆ … ┆ ycam       ┆ sunelev   ┆ saa       ┆ path      │\n",
       "│ ---        ┆ ---      ┆ ---      ┆ ---      ┆   ┆ ---        ┆ ---       ┆ ---       ┆ ---       │\n",
       "│ f64        ┆ f64      ┆ f32      ┆ f32      ┆   ┆ f32        ┆ f32       ┆ f32       ┆ str       │\n",
       "╞════════════╪══════════╪══════════╪══════════╪═══╪════════════╪═══════════╪═══════════╪═══════════╡\n",
       "│ 563632.195 ┆ 5.7130e6 ┆ NaN      ┆ NaN      ┆ … ┆ 5.713029e6 ┆ 58.715553 ┆ 170.79199 ┆ IMG_0012_ │\n",
       "│ 878        ┆          ┆          ┆          ┆   ┆            ┆           ┆ 2         ┆ 6.tif     │\n",
       "│ 563632.203 ┆ 5.7130e6 ┆ NaN      ┆ NaN      ┆ … ┆ 5.713029e6 ┆ 58.715553 ┆ 170.79199 ┆ IMG_0012_ │\n",
       "│ 182        ┆          ┆          ┆          ┆   ┆            ┆           ┆ 2         ┆ 6.tif     │\n",
       "│ 563632.210 ┆ 5.7130e6 ┆ NaN      ┆ NaN      ┆ … ┆ 5.713029e6 ┆ 58.715553 ┆ 170.79199 ┆ IMG_0012_ │\n",
       "│ 486        ┆          ┆          ┆          ┆   ┆            ┆           ┆ 2         ┆ 6.tif     │\n",
       "│ 563632.217 ┆ 5.7130e6 ┆ NaN      ┆ NaN      ┆ … ┆ 5.713029e6 ┆ 58.715553 ┆ 170.79199 ┆ IMG_0012_ │\n",
       "│ 79         ┆          ┆          ┆          ┆   ┆            ┆           ┆ 2         ┆ 6.tif     │\n",
       "│ 563632.225 ┆ 5.7130e6 ┆ NaN      ┆ NaN      ┆ … ┆ 5.713029e6 ┆ 58.715553 ┆ 170.79199 ┆ IMG_0012_ │\n",
       "│ 094        ┆          ┆          ┆          ┆   ┆            ┆           ┆ 2         ┆ 6.tif     │\n",
       "│ …          ┆ …        ┆ …        ┆ …        ┆ … ┆ …          ┆ …         ┆ …         ┆ …         │\n",
       "│ 563633.867 ┆ 5.7130e6 ┆ 0.012702 ┆ 0.037408 ┆ … ┆ 5.713029e6 ┆ 58.715553 ┆ 170.79199 ┆ IMG_0012_ │\n",
       "│ 331        ┆          ┆          ┆          ┆   ┆            ┆           ┆ 2         ┆ 6.tif     │\n",
       "│ 563633.874 ┆ 5.7130e6 ┆ 0.012207 ┆ 0.037203 ┆ … ┆ 5.713029e6 ┆ 58.715553 ┆ 170.79199 ┆ IMG_0012_ │\n",
       "│ 635        ┆          ┆          ┆          ┆   ┆            ┆           ┆ 2         ┆ 6.tif     │\n",
       "│ 563633.881 ┆ 5.7130e6 ┆ 0.012204 ┆ 0.035652 ┆ … ┆ 5.713029e6 ┆ 58.715553 ┆ 170.79199 ┆ IMG_0012_ │\n",
       "│ 939        ┆          ┆          ┆          ┆   ┆            ┆           ┆ 2         ┆ 6.tif     │\n",
       "│ 563633.889 ┆ 5.7130e6 ┆ 0.010939 ┆ 0.032961 ┆ … ┆ 5.713029e6 ┆ 58.715553 ┆ 170.79199 ┆ IMG_0012_ │\n",
       "│ 243        ┆          ┆          ┆          ┆   ┆            ┆           ┆ 2         ┆ 6.tif     │\n",
       "│ 563633.896 ┆ 5.7130e6 ┆ 0.009732 ┆ 0.031088 ┆ … ┆ 5.713029e6 ┆ 58.715553 ┆ 170.79199 ┆ IMG_0012_ │\n",
       "│ 547        ┆          ┆          ┆          ┆   ┆            ┆           ┆ 2         ┆ 6.tif     │\n",
       "└────────────┴──────────┴──────────┴──────────┴───┴────────────┴───────────┴───────────┴───────────┘"
      ],
      "text/html": [
       "<div><style>\n",
       ".dataframe > thead > tr,\n",
       ".dataframe > tbody > tr {\n",
       "  text-align: right;\n",
       "  white-space: pre-wrap;\n",
       "}\n",
       "</style>\n",
       "<small>shape: (191_254, 23)</small><table border=\"1\" class=\"dataframe\"><thead><tr><th>Xw</th><th>Yw</th><th>band1</th><th>band2</th><th>band3</th><th>band4</th><th>band5</th><th>elev</th><th>plot_id</th><th>delta_z</th><th>delta_x</th><th>delta_y</th><th>distance_xy</th><th>angle_rad</th><th>vza</th><th>vaa_rad</th><th>vaa_temp</th><th>vaa</th><th>xcam</th><th>ycam</th><th>sunelev</th><th>saa</th><th>path</th></tr><tr><td>f64</td><td>f64</td><td>f32</td><td>f32</td><td>f32</td><td>f32</td><td>f32</td><td>f32</td><td>str</td><td>f32</td><td>f64</td><td>f64</td><td>f64</td><td>f32</td><td>f32</td><td>f64</td><td>f64</td><td>f64</td><td>f32</td><td>f32</td><td>f32</td><td>f32</td><td>str</td></tr></thead><tbody><tr><td>563632.195878</td><td>5.7130e6</td><td>NaN</td><td>NaN</td><td>NaN</td><td>NaN</td><td>NaN</td><td>187.88269</td><td>&quot;plot_8&quot;</td><td>19.67897</td><td>14.366622</td><td>-5.13504</td><td>15.256752</td><td>0.91131</td><td>37.790001</td><td>1.914074</td><td>-61.123651</td><td>298.876349</td><td>563646.5625</td><td>5.713029e6</td><td>58.715553</td><td>170.791992</td><td>&quot;IMG_0012_6.tif&quot;</td></tr><tr><td>563632.203182</td><td>5.7130e6</td><td>NaN</td><td>NaN</td><td>NaN</td><td>NaN</td><td>NaN</td><td>187.877213</td><td>&quot;plot_8&quot;</td><td>19.684448</td><td>14.359318</td><td>-5.135132</td><td>15.249905</td><td>0.911662</td><td>37.77</td><td>1.91424</td><td>-61.11409</td><td>298.88591</td><td>563646.5625</td><td>5.713029e6</td><td>58.715553</td><td>170.791992</td><td>&quot;IMG_0012_6.tif&quot;</td></tr><tr><td>563632.210486</td><td>5.7130e6</td><td>NaN</td><td>NaN</td><td>NaN</td><td>NaN</td><td>NaN</td><td>null</td><td>&quot;plot_8&quot;</td><td>19.703262</td><td>14.352014</td><td>-5.135224</td><td>15.243058</td><td>0.912342</td><td>37.73</td><td>1.914407</td><td>-61.104521</td><td>298.895479</td><td>563646.5625</td><td>5.713029e6</td><td>58.715553</td><td>170.791992</td><td>&quot;IMG_0012_6.tif&quot;</td></tr><tr><td>563632.21779</td><td>5.7130e6</td><td>NaN</td><td>NaN</td><td>NaN</td><td>NaN</td><td>NaN</td><td>null</td><td>&quot;plot_8&quot;</td><td>19.723648</td><td>14.34471</td><td>-5.135316</td><td>15.236212</td><td>0.91306</td><td>37.689999</td><td>1.914575</td><td>-61.094943</td><td>298.905057</td><td>563646.5625</td><td>5.713029e6</td><td>58.715553</td><td>170.791992</td><td>&quot;IMG_0012_6.tif&quot;</td></tr><tr><td>563632.225094</td><td>5.7130e6</td><td>NaN</td><td>NaN</td><td>NaN</td><td>NaN</td><td>NaN</td><td>null</td><td>&quot;plot_8&quot;</td><td>19.726639</td><td>14.337406</td><td>-5.135407</td><td>15.229367</td><td>0.91335</td><td>37.669998</td><td>1.914742</td><td>-61.085356</td><td>298.914644</td><td>563646.5625</td><td>5.713029e6</td><td>58.715553</td><td>170.791992</td><td>&quot;IMG_0012_6.tif&quot;</td></tr><tr><td>&hellip;</td><td>&hellip;</td><td>&hellip;</td><td>&hellip;</td><td>&hellip;</td><td>&hellip;</td><td>&hellip;</td><td>&hellip;</td><td>&hellip;</td><td>&hellip;</td><td>&hellip;</td><td>&hellip;</td><td>&hellip;</td><td>&hellip;</td><td>&hellip;</td><td>&hellip;</td><td>&hellip;</td><td>&hellip;</td><td>&hellip;</td><td>&hellip;</td><td>&hellip;</td><td>&hellip;</td><td>&hellip;</td></tr><tr><td>563633.867331</td><td>5.7130e6</td><td>0.012702</td><td>0.037408</td><td>0.015113</td><td>0.109692</td><td>0.3802</td><td>187.993378</td><td>&quot;plot_10&quot;</td><td>19.568283</td><td>12.695169</td><td>-8.742923</td><td>15.414474</td><td>0.903584</td><td>38.23</td><td>2.173885</td><td>-46.237539</td><td>313.762461</td><td>563646.5625</td><td>5.713029e6</td><td>58.715553</td><td>170.791992</td><td>&quot;IMG_0012_6.tif&quot;</td></tr><tr><td>563633.874635</td><td>5.7130e6</td><td>0.012207</td><td>0.037203</td><td>0.014488</td><td>0.1003</td><td>0.365892</td><td>187.997192</td><td>&quot;plot_10&quot;</td><td>19.564468</td><td>12.687865</td><td>-8.743015</td><td>15.408511</td><td>0.903677</td><td>38.220001</td><td>2.174159</td><td>-46.221854</td><td>313.778146</td><td>563646.5625</td><td>5.713029e6</td><td>58.715553</td><td>170.791992</td><td>&quot;IMG_0012_6.tif&quot;</td></tr><tr><td>563633.881939</td><td>5.7130e6</td><td>0.012204</td><td>0.035652</td><td>0.015033</td><td>0.092907</td><td>0.361171</td><td>188.00148</td><td>&quot;plot_10&quot;</td><td>19.560181</td><td>12.680561</td><td>-8.743106</td><td>15.402549</td><td>0.903758</td><td>38.220001</td><td>2.174433</td><td>-46.206156</td><td>313.793844</td><td>563646.5625</td><td>5.713029e6</td><td>58.715553</td><td>170.791992</td><td>&quot;IMG_0012_6.tif&quot;</td></tr><tr><td>563633.889243</td><td>5.7130e6</td><td>0.010939</td><td>0.032961</td><td>0.013824</td><td>0.086959</td><td>0.339325</td><td>188.012436</td><td>&quot;plot_10&quot;</td><td>19.549225</td><td>12.673257</td><td>-8.743198</td><td>15.396589</td><td>0.903674</td><td>38.220001</td><td>2.174707</td><td>-46.190446</td><td>313.809554</td><td>563646.5625</td><td>5.713029e6</td><td>58.715553</td><td>170.791992</td><td>&quot;IMG_0012_6.tif&quot;</td></tr><tr><td>563633.896547</td><td>5.7130e6</td><td>0.009732</td><td>0.031088</td><td>0.011527</td><td>0.081784</td><td>0.314783</td><td>188.024185</td><td>&quot;plot_10&quot;</td><td>19.537476</td><td>12.665953</td><td>-8.74329</td><td>15.390629</td><td>0.90357</td><td>38.23</td><td>2.174982</td><td>-46.174724</td><td>313.825276</td><td>563646.5625</td><td>5.713029e6</td><td>58.715553</td><td>170.791992</td><td>&quot;IMG_0012_6.tif&quot;</td></tr></tbody></table></div>"
      ]
     },
     "execution_count": 2,
     "metadata": {},
     "output_type": "execute_result"
    }
   ],
   "execution_count": 2
  },
  {
   "metadata": {},
   "cell_type": "code",
   "outputs": [],
   "execution_count": null,
   "source": "\"D:\\20241207_week5_products_uav_data\\output\\extract\\20241029_week8_project_0_IMG_0000_6.tif.parquet\"",
   "id": "43959404df02ef06"
  },
  {
   "metadata": {},
   "cell_type": "code",
   "outputs": [],
   "execution_count": null,
   "source": [
    "import math\n",
    "\n",
    "def latlon_to_utm32n_series(lat_deg, lon_deg):\n",
    "    \"\"\"\n",
    "    Convert geographic coordinates (lat, lon in degrees, WGS84)\n",
    "    to UTM Zone 32N (EPSG:32632) using the standard UTM formulas.\n",
    "\n",
    "    Returns:\n",
    "      (easting, northing) in meters.\n",
    "    \"\"\"\n",
    "    # WGS84 ellipsoid constants\n",
    "    a = 6378137.0                       # semi-major axis (meters)\n",
    "    f = 1 / 298.257223563               # flattening\n",
    "    e2 = 2*f - f**2                     # eccentricity squared\n",
    "    e = math.sqrt(e2)\n",
    "\n",
    "    # UTM parameters for Zone 32N\n",
    "    k0 = 0.9996\n",
    "    E0 = 500000.0                       # false easting\n",
    "    N0 = 0.0                            # false northing (northern hemisphere)\n",
    "    lambda0 = math.radians(9.0)         # central meridian for Zone 32N (9°E)\n",
    "\n",
    "    # Convert input latitude and longitude from degrees to radians\n",
    "    phi = math.radians(lat_deg)\n",
    "    lam = math.radians(lon_deg)\n",
    "\n",
    "    # Compute auxiliary values\n",
    "    N_val = a / math.sqrt(1 - e2 * math.sin(phi)**2)\n",
    "    T = math.tan(phi)**2\n",
    "    # Second eccentricity squared\n",
    "    ep2 = e2 / (1 - e2)\n",
    "    C = ep2 * math.cos(phi)**2\n",
    "    A = (lam - lambda0) * math.cos(phi)\n",
    "\n",
    "    # Meridional arc length (M)\n",
    "    M = a * (\n",
    "          (1 - e2/4 - 3*e2**2/64 - 5*e2**3/256) * phi\n",
    "        - (3*e2/8 + 3*e2**2/32 + 45*e2**3/1024) * math.sin(2*phi)\n",
    "        + (15*e2**2/256 + 45*e2**3/1024) * math.sin(4*phi)\n",
    "        - (35*e2**3/3072) * math.sin(6*phi)\n",
    "    )\n",
    "\n",
    "    # Calculate Easting and Northing using standard UTM series formulas\n",
    "    easting = E0 + k0 * N_val * (\n",
    "          A\n",
    "        + (1 - T + C) * A**3 / 6\n",
    "        + (5 - 18*T + T**2 + 72*C - 58*ep2) * A**5 / 120\n",
    "    )\n",
    "\n",
    "    northing = N0 + k0 * (\n",
    "          M\n",
    "        + N_val * math.tan(phi) * (\n",
    "              A**2 / 2\n",
    "            + (5 - T + 9*C + 4*C**2) * A**4 / 24\n",
    "            + (61 - 58*T + T**2 + 600*C - 330*ep2) * A**6 / 720\n",
    "        )\n",
    "    )\n",
    "\n",
    "    return easting, northing\n",
    "\n",
    "\n",
    "# Test the function with a known point\n",
    "\n",
    "coord = [9.9181978710164600, 51.5649526394502686]\n",
    "easting, northing = latlon_to_utm32n_series(coord[1], coord[0])\n",
    "\n",
    "\n",
    "\n",
    "print(f\"Latitude: {coord[1]}, Longitude: {coord[0]}\")\n",
    "print(f\"Easting: {easting:.2f} m, Northing: {northing:.2f} m\")"
   ],
   "id": "5497480b2f97ace8"
  },
  {
   "metadata": {},
   "cell_type": "code",
   "outputs": [],
   "execution_count": null,
   "source": "df.head(400)",
   "id": "79845880bfcf84a6"
  },
  {
   "metadata": {},
   "cell_type": "code",
   "outputs": [],
   "execution_count": null,
   "source": [
    "\n",
    "# Load the GPKG file\n",
    "file_path =  \"/run/media/mak/OS/example_data_week8/20241029_products_uav_data/20241204_oncerco_plot_polygons.gpkg\"\n",
    "gdf = gpd.read_file(file_path)\n",
    "\n",
    "# Display the first few rows\n",
    "print(gdf.head())\n",
    "print(gdf.crs)\n"
   ],
   "id": "b71561b2bb113e98"
  },
  {
   "metadata": {},
   "cell_type": "code",
   "outputs": [],
   "execution_count": null,
   "source": "gdf",
   "id": "fa957e6cad98fc1c"
  },
  {
   "metadata": {},
   "cell_type": "code",
   "outputs": [],
   "execution_count": null,
   "source": [
    "print(gdf.shape)  # Should show (number_of_rows, number_of_columns)\n",
    "print(gdf.isnull().sum())  # Check for missing values\n",
    "print(gdf.is_valid)  # Should return True for all rows\n"
   ],
   "id": "dcad493044d1c9ca"
  },
  {
   "metadata": {},
   "cell_type": "code",
   "outputs": [],
   "execution_count": null,
   "source": [
    "\n",
    "# Load camera data (adjust delimiter as needed)\n",
    "camera_df = pd.read_csv(\"/run/media/mak/OS/example_data_week8/20241029_products_uav_data/20241029_week8_cameras.txt\", sep=\"\\t\",  skiprows=2, header=None, )\n",
    "\n",
    "camera_df.columns = ['PhotoID', 'X', 'Y', 'Z', 'Omega', 'Phi', 'Kappa', 'r11', 'r12', 'r13',\n",
    "                          'r21', 'r22', 'r23', 'r31', 'r32', 'r33']\n",
    "# Create a geometry column (assuming X is longitude and Y is latitude)\n",
    "camera_df['geometry'] = camera_df.apply(lambda row: Point(row['X'], row['Y']), axis=1)\n",
    "\n",
    "# Create a GeoDataFrame with the camera data\n",
    "camera_gdf = gpd.GeoDataFrame(camera_df, geometry='geometry', crs=\"EPSG:4326\")\n",
    "\n",
    "camera_gdf"
   ],
   "id": "af186fd23d836a08"
  },
  {
   "metadata": {},
   "cell_type": "code",
   "outputs": [],
   "execution_count": null,
   "source": [
    "camera_in_projected = camera_gdf.to_crs(\"EPSG:32632\")\n",
    "camera_in_projected"
   ],
   "id": "51a4326df9323da0"
  },
  {
   "metadata": {},
   "cell_type": "code",
   "outputs": [],
   "execution_count": null,
   "source": "camera_in_projected.plot(aspect=1)\n",
   "id": "f04c2959939ba42"
  },
  {
   "metadata": {},
   "cell_type": "code",
   "outputs": [],
   "execution_count": null,
   "source": [
    "gdf[\"camera points\"] = camera_in_projected.geometry\n",
    "gdf.plot(aspect=1)"
   ],
   "id": "ea3cdaa5e8eae153"
  },
  {
   "metadata": {},
   "cell_type": "code",
   "outputs": [],
   "execution_count": null,
   "source": [
    "polygon = gdf[\"geometry\"][0]\n",
    "print(polygon)\n",
    "print(gdf[\"geometry\"][0])\n",
    "i=0\n",
    "\n",
    "for point in camera_in_projected[\"geometry\"]:\n",
    "    if polygon.contains(point):\n",
    "        print(point)\n",
    "        print(camera_in_projected[\"PhotoID\"][i])\n",
    "\n",
    "    i = i + 1\n",
    "\n",
    "\n"
   ],
   "id": "cb4aac728ae7670"
  },
  {
   "metadata": {},
   "cell_type": "code",
   "outputs": [],
   "execution_count": null,
   "source": [
    "polygon = gdf[\"geometry\"][5]\n",
    "for i in range(len(camera_df)):\n",
    "    point = Point(latlon_to_utm32n_series(camera_df[\"Y\"][i], camera_df[\"X\"][i]))\n",
    "   #print(f\"function point {camera_in_projected[\"geometry\"][i]} Library poinT: {point}  \" )\n",
    "    if polygon.contains(point):\n",
    "        print(camera_df[\"PhotoID\"][i])\n"
   ],
   "id": "3a299e087e911651"
  },
  {
   "metadata": {},
   "cell_type": "code",
   "outputs": [],
   "execution_count": null,
   "source": [
    "from rasterio.transform import from_origin\n",
    "import rasterio\n",
    "import logging\n",
    "\n",
    "def parquet_to_multiband_tif(parquet_path, output_tif, band_columns=[\"band1\", \"band2\", \"band3\"],\n",
    "                             crs=\"EPSG:32632\", nodata=None):\n",
    "    \"\"\"\n",
    "    Reads a Parquet file containing georeferenced data and writes out a multi-band GeoTIFF.\n",
    "\n",
    "    The Parquet file must include at least the following columns:\n",
    "        - \"Xw\": x-coordinate (e.g., projected easting)\n",
    "        - \"Yw\": y-coordinate (e.g., projected northing)\n",
    "    and one or more band columns (e.g., \"band1\", \"band2\", \"band3\").\n",
    "\n",
    "    Duplicate coordinate entries are aggregated by taking the mean.\n",
    "\n",
    "    Parameters:\n",
    "        parquet_path (str): Path to the input Parquet file.\n",
    "        output_tif (str): Path where the output GeoTIFF will be saved.\n",
    "        band_columns (list of str): List of column names to export as bands.\n",
    "        crs (str): Coordinate reference system for the output GeoTIFF.\n",
    "        nodata: Value to assign for missing data. If None, missing data remains as NaN.\n",
    "\n",
    "    Returns:\n",
    "        None. The GeoTIFF is written to output_tif.\n",
    "    \"\"\"\n",
    "    # Read the Parquet file using Polars and convert to a Pandas DataFrame.\n",
    "    df = pl.read_parquet(parquet_path)\n",
    "    df_pd = df.to_pandas()\n",
    "\n",
    "    # Check required coordinate columns\n",
    "    if not {\"Xw\", \"Yw\"}.issubset(df_pd.columns):\n",
    "        raise ValueError(\"The input file must contain 'Xw' and 'Yw' coordinate columns.\")\n",
    "\n",
    "    # Get unique coordinates for the grid.\n",
    "    x_unique = np.sort(df_pd[\"Xw\"].unique())\n",
    "    # For rasters, Y is sorted in descending order (top-to-bottom).\n",
    "    y_unique = np.sort(df_pd[\"Yw\"].unique())[::-1]\n",
    "\n",
    "    if len(x_unique) < 2 or len(y_unique) < 2:\n",
    "        raise ValueError(\"Not enough unique coordinate values to form a raster grid.\")\n",
    "\n",
    "    # Calculate pixel size (assumes constant spacing)\n",
    "    pixel_width = np.round(x_unique[1] - x_unique[0], 6)\n",
    "    pixel_height = np.round(abs(y_unique[0] - y_unique[1]), 6)\n",
    "\n",
    "    # Define the affine transform: origin is the top-left corner.\n",
    "    origin_x = x_unique[0]\n",
    "    origin_y = y_unique[0]\n",
    "    transform = from_origin(origin_x, origin_y, pixel_width, pixel_height)\n",
    "\n",
    "    band_arrays = []\n",
    "    for band in band_columns:\n",
    "        if band not in df_pd.columns:\n",
    "            raise ValueError(f\"Band column '{band}' not found in the input file.\")\n",
    "        print(df_pd)\n",
    "        # Group by coordinates to aggregate duplicate (Xw, Yw) pairs (using mean).\n",
    "        df_grouped = df_pd.groupby([\"Xw\", \"Yw\"], as_index=False)[band].mean()\n",
    "        # Pivot the grouped data: rows by Yw, columns by Xw.\n",
    "        pivot = df_grouped.pivot(index=\"Yw\", columns=\"Xw\", values=band)\n",
    "\n",
    "        # Reindex to ensure all coordinate positions are present in the proper order.\n",
    "        pivot = pivot.reindex(index=y_unique, columns=x_unique)\n",
    "        band_array = pivot.values\n",
    "        print(\"here\")\n",
    "\n",
    "        # Replace missing values with nodata if provided.\n",
    "        if nodata is not None:\n",
    "            band_array = np.where(np.isnan(band_array), nodata, band_array)\n",
    "        band_arrays.append(band_array)\n",
    "\n",
    "    # Use the dimensions from the first band.\n",
    "    height, width = band_arrays[0].shape\n",
    "    dtype = band_arrays[0].dtype\n",
    "\n",
    "    logging.info(f\"Raster dimensions: width={width}, height={height}\")\n",
    "    logging.info(f\"Affine Transform: {transform}\")\n",
    "    logging.info(f\"CRS: {crs}\")\n",
    "\n",
    "    # Write the multi-band GeoTIFF.\n",
    "    with rasterio.open(\n",
    "         output_tif,\n",
    "         \"w\",\n",
    "         driver=\"GTiff\",\n",
    "         height=height,\n",
    "         width=width,\n",
    "         count=len(band_columns),\n",
    "         dtype=dtype,\n",
    "         crs=crs,\n",
    "         transform=transform,\n",
    "         nodata=nodata\n",
    "    ) as dst:\n",
    "         for idx, band_array in enumerate(band_arrays, start=1):\n",
    "             dst.write(band_array, idx)\n",
    "\n",
    "    logging.info(f\"GeoTIFF successfully saved to {output_tif}\")\n"
   ],
   "id": "ac034126b7166b09"
  },
  {
   "metadata": {},
   "cell_type": "code",
   "outputs": [],
   "execution_count": null,
   "source": [
    "parquet_path = file_path\n",
    "output_tif = \"./output.tif\"\n",
    "bands = [\"band1\", \"band2\", \"band3\"]  # adjust based on your data\n",
    "parquet_to_multiband_tif(parquet_path, output_tif, bands, crs=\"EPSG:32632\", nodata=0)"
   ],
   "id": "460719c438fd6985"
  },
  {
   "metadata": {
    "ExecuteTime": {
     "end_time": "2025-04-11T08:39:12.230936Z",
     "start_time": "2025-04-11T08:39:11.755070Z"
    }
   },
   "cell_type": "code",
   "source": [
    "from matplotlib import pyplot as plt\n",
    "\n",
    "plt.figure(figsize=(8, 8))\n",
    "plt.scatter(df[\"Xw\"], df[\"Yw\"], s=10, alpha=0.5, label=\"Ground Points\")\n",
    "plt.scatter([xcam], [ycam], c='red', label=\"Drone\")\n",
    "\n",
    "# Draw view vectors\n",
    "for i in range(0, len(df), step):  # Use step to avoid clutter\n",
    "    plt.plot([xcam, df[\"Xw\"][i]], [ycam, df[\"Yw\"][i]], alpha=0.3)\n",
    "\n",
    "plt.legend()\n",
    "plt.title(\"Top-Down Projection of Drone to Ground Points\")\n",
    "plt.xlabel(\"X\")\n",
    "plt.ylabel(\"Y\")\n",
    "plt.axis(\"equal\")\n"
   ],
   "id": "555d860c61393907",
   "outputs": [
    {
     "ename": "NameError",
     "evalue": "name 'xcam' is not defined",
     "output_type": "error",
     "traceback": [
      "\u001B[31m---------------------------------------------------------------------------\u001B[39m",
      "\u001B[31mNameError\u001B[39m                                 Traceback (most recent call last)",
      "\u001B[36mCell\u001B[39m\u001B[36m \u001B[39m\u001B[32mIn[7]\u001B[39m\u001B[32m, line 3\u001B[39m\n\u001B[32m      1\u001B[39m plt.figure(figsize=(\u001B[32m8\u001B[39m, \u001B[32m8\u001B[39m))\n\u001B[32m      2\u001B[39m plt.scatter(df[\u001B[33m\"\u001B[39m\u001B[33mXw\u001B[39m\u001B[33m\"\u001B[39m], df[\u001B[33m\"\u001B[39m\u001B[33mYw\u001B[39m\u001B[33m\"\u001B[39m], s=\u001B[32m10\u001B[39m, alpha=\u001B[32m0.5\u001B[39m, label=\u001B[33m\"\u001B[39m\u001B[33mGround Points\u001B[39m\u001B[33m\"\u001B[39m)\n\u001B[32m----> \u001B[39m\u001B[32m3\u001B[39m plt.scatter([\u001B[43mxcam\u001B[49m], [ycam], c=\u001B[33m'\u001B[39m\u001B[33mred\u001B[39m\u001B[33m'\u001B[39m, label=\u001B[33m\"\u001B[39m\u001B[33mDrone\u001B[39m\u001B[33m\"\u001B[39m)\n\u001B[32m      5\u001B[39m \u001B[38;5;66;03m# Draw view vectors\u001B[39;00m\n\u001B[32m      6\u001B[39m \u001B[38;5;28;01mfor\u001B[39;00m i \u001B[38;5;129;01min\u001B[39;00m \u001B[38;5;28mrange\u001B[39m(\u001B[32m0\u001B[39m, \u001B[38;5;28mlen\u001B[39m(df), step):  \u001B[38;5;66;03m# Use step to avoid clutter\u001B[39;00m\n",
      "\u001B[31mNameError\u001B[39m: name 'xcam' is not defined"
     ]
    },
    {
     "data": {
      "text/plain": [
       "<Figure size 800x800 with 1 Axes>"
      ],
      "image/png": "[encoded data removed]"
     },
     "metadata": {},
     "output_type": "display_data"
    }
   ],
   "execution_count": 7
  },
  {
   "metadata": {},
   "cell_type": "code",
   "outputs": [],
   "execution_count": null,
   "source": "",
   "id": "6d865d1ff12c4294"
  }
 ],
 "metadata": {
  "kernelspec": {
   "display_name": "Python 3",
   "language": "python",
   "name": "python3"
  },
  "language_info": {
   "codemirror_mode": {
    "name": "ipython",
    "version": 2
   },
   "file_extension": ".py",
   "mimetype": "text/x-python",
   "name": "python",
   "nbconvert_exporter": "python",
   "pygments_lexer": "ipython2",
   "version": "2.7.6"
  }
 },
 "nbformat": 4,
 "nbformat_minor": 5
}
